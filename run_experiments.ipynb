{
 "cells": [
  {
   "cell_type": "code",
   "execution_count": 1,
   "metadata": {},
   "outputs": [
    {
     "name": "stderr",
     "output_type": "stream",
     "text": [
      "c:\\Users\\vince\\Documents\\Statistics\\TT\\msc_thesis\\.venv\\Lib\\site-packages\\tqdm\\auto.py:21: TqdmWarning: IProgress not found. Please update jupyter and ipywidgets. See https://ipywidgets.readthedocs.io/en/stable/user_install.html\n",
      "  from .autonotebook import tqdm as notebook_tqdm\n"
     ]
    }
   ],
   "source": [
    "import torch\n",
    "\n",
    "import numpy as np\n",
    "from main.models import ConvNet\n",
    "from main.utils import save_experiment\n",
    "from dataclasses import dataclass\n",
    "from main.active_learning import run_active_learning\n",
    "from main.prepare_data import create_repeated_MNIST_dataloaders\n",
    "\n",
    "%reload_ext autoreload\n",
    "%autoreload 2"
   ]
  },
  {
   "cell_type": "code",
   "execution_count": 2,
   "metadata": {},
   "outputs": [
    {
     "name": "stdout",
     "output_type": "stream",
     "text": [
      "Using device: cpu\n"
     ]
    }
   ],
   "source": [
    "# set configurations\n",
    "@dataclass\n",
    "class ActiveLearningConfig:\n",
    "    subset_of_weights: str = 'last_layer'\n",
    "    hessian_structure: str = 'kron'\n",
    "    backend: str = 'AsdlGGN'\n",
    "    temperature: float = 1.0\n",
    "    max_training_samples: int = 100\n",
    "    acquisition_batch_size: int = 5\n",
    "    al_method: str = 'max_logdet_S'\n",
    "    test_batch_size: int = 512\n",
    "    num_classes: int = 10\n",
    "    num_initial_samples: int = 40\n",
    "    training_iterations: int = 4096 * 6\n",
    "    scoring_batch_size: int = 64\n",
    "    train_batch_size: int = 64\n",
    "    extract_pool: int = 0\n",
    "    num_repeats: int = 10\n",
    "    samples_per_digit: int = 50\n",
    "\n",
    "experiment_name = '10x_redundant_logdet'  # provide descriptive name for the experiment\n",
    "\n",
    "config = ActiveLearningConfig()\n",
    "\n",
    "device = torch.device('cuda' if torch.cuda.is_available() else 'cpu')\n",
    "print(f\"Using device: {device}\")\n",
    "\n",
    "save_results = True\n",
    "num_runs = 5"
   ]
  },
  {
   "cell_type": "code",
   "execution_count": 3,
   "metadata": {},
   "outputs": [
    {
     "name": "stderr",
     "output_type": "stream",
     "text": [
      "c:\\Users\\vince\\Documents\\Statistics\\TT\\msc_thesis\\.venv\\Lib\\site-packages\\torch\\utils\\data\\sampler.py:64: UserWarning: `data_source` argument is not used and will be removed in 2.2.0.You may still have custom implementation that utilizes it.\n",
      "  warnings.warn(\"`data_source` argument is not used and will be removed in 2.2.0.\"\n",
      "Training Set Size:  40%|████      | 40/100 [00:00<?, ?it/s]2024-07-29 12:10:09,553 - INFO - Training set size: 40, Test set accuracy: 72.12, Test set loss: -0.0107\n",
      "Training Set Size:  45%|████▌     | 45/100 [00:12<02:16,  2.47s/it]"
     ]
    },
    {
     "name": "stdout",
     "output_type": "stream",
     "text": [
      "Dataset indices:  [4415 2793 1076 4021  876]\n",
      "Scores:  [0, 0, 0, 0, 0]\n",
      "Labels:  tensor([9, 3, 6, 1, 1])\n"
     ]
    },
    {
     "name": "stderr",
     "output_type": "stream",
     "text": [
      "2024-07-29 12:10:19,831 - INFO - Training set size: 45, Test set accuracy: 71.49, Test set loss: -0.0177\n",
      "Training Set Size:  50%|█████     | 50/100 [00:22<01:51,  2.23s/it]"
     ]
    },
    {
     "name": "stdout",
     "output_type": "stream",
     "text": [
      "Dataset indices:  [3206  263 4974   88 4617]\n",
      "Scores:  [0, 0, 0, 0, 0]\n",
      "Labels:  tensor([0, 4, 4, 3, 0])\n"
     ]
    },
    {
     "name": "stderr",
     "output_type": "stream",
     "text": [
      "2024-07-29 12:10:30,960 - INFO - Training set size: 50, Test set accuracy: 72.49, Test set loss: -0.0162\n",
      "Training Set Size:  55%|█████▌    | 55/100 [00:33<01:40,  2.23s/it]"
     ]
    },
    {
     "name": "stdout",
     "output_type": "stream",
     "text": [
      "Dataset indices:  [3462 3014  704 4046 4801]\n",
      "Scores:  [0, 0, 0, 0, 0]\n",
      "Labels:  tensor([6, 4, 1, 0, 7])\n"
     ]
    },
    {
     "name": "stderr",
     "output_type": "stream",
     "text": [
      "2024-07-29 12:10:42,578 - INFO - Training set size: 55, Test set accuracy: 71.15, Test set loss: -0.0200\n",
      "Training Set Size:  60%|██████    | 60/100 [00:45<01:30,  2.27s/it]"
     ]
    },
    {
     "name": "stdout",
     "output_type": "stream",
     "text": [
      "Dataset indices:  [2160 1813 2583 2703  539]\n",
      "Scores:  [0, 0, 0, 0, 0]\n",
      "Labels:  tensor([0, 7, 4, 3, 1])\n"
     ]
    },
    {
     "name": "stderr",
     "output_type": "stream",
     "text": [
      "2024-07-29 12:10:55,066 - INFO - Training set size: 60, Test set accuracy: 73.01, Test set loss: -0.0127\n",
      "Training Set Size:  65%|██████▌   | 65/100 [00:57<01:22,  2.35s/it]"
     ]
    },
    {
     "name": "stdout",
     "output_type": "stream",
     "text": [
      "Dataset indices:  [4664 4210 3263 3762 4145]\n",
      "Scores:  [0, 0, 0, 0, 0]\n",
      "Labels:  tensor([3, 4, 4, 2, 3])\n"
     ]
    },
    {
     "name": "stderr",
     "output_type": "stream",
     "text": [
      "2024-07-29 12:11:05,556 - INFO - Training set size: 65, Test set accuracy: 75.29, Test set loss: -0.0251\n",
      "Training Set Size:  70%|███████   | 70/100 [01:08<01:07,  2.26s/it]"
     ]
    },
    {
     "name": "stdout",
     "output_type": "stream",
     "text": [
      "Dataset indices:  [ 723  963 4113  847 4943]\n",
      "Scores:  [0, 0, 0, 0, 0]\n",
      "Labels:  tensor([4, 6, 0, 3, 5])\n"
     ]
    },
    {
     "name": "stderr",
     "output_type": "stream",
     "text": [
      "2024-07-29 12:11:16,030 - INFO - Training set size: 70, Test set accuracy: 74.37, Test set loss: -0.0231\n",
      "Training Set Size:  75%|███████▌  | 75/100 [01:18<00:55,  2.21s/it]"
     ]
    },
    {
     "name": "stdout",
     "output_type": "stream",
     "text": [
      "Dataset indices:  [1637 4026  641 2357  572]\n",
      "Scores:  [0, 0, 0, 0, 0]\n",
      "Labels:  tensor([1, 2, 1, 7, 7])\n"
     ]
    },
    {
     "name": "stderr",
     "output_type": "stream",
     "text": [
      "2024-07-29 12:11:26,826 - INFO - Training set size: 75, Test set accuracy: 73.79, Test set loss: -0.0155\n",
      "Training Set Size:  80%|████████  | 80/100 [01:29<00:43,  2.19s/it]"
     ]
    },
    {
     "name": "stdout",
     "output_type": "stream",
     "text": [
      "Dataset indices:  [ 568 1231 3756 3360 3519]\n",
      "Scores:  [0, 0, 0, 0, 0]\n",
      "Labels:  tensor([4, 2, 0, 1, 1])\n"
     ]
    },
    {
     "name": "stderr",
     "output_type": "stream",
     "text": [
      "2024-07-29 12:11:37,402 - INFO - Training set size: 80, Test set accuracy: 75.71, Test set loss: -0.0217\n",
      "Training Set Size:  85%|████████▌ | 85/100 [01:40<00:32,  2.17s/it]"
     ]
    },
    {
     "name": "stdout",
     "output_type": "stream",
     "text": [
      "Dataset indices:  [1080 3994 4477 4778 1918]\n",
      "Scores:  [0, 0, 0, 0, 0]\n",
      "Labels:  tensor([3, 0, 6, 0, 9])\n"
     ]
    },
    {
     "name": "stderr",
     "output_type": "stream",
     "text": [
      "2024-07-29 12:11:49,415 - INFO - Training set size: 85, Test set accuracy: 77.23, Test set loss: -0.0286\n",
      "Training Set Size:  90%|█████████ | 90/100 [01:52<00:22,  2.24s/it]"
     ]
    },
    {
     "name": "stdout",
     "output_type": "stream",
     "text": [
      "Dataset indices:  [1395 3103  199 4017 3593]\n",
      "Scores:  [0, 0, 0, 0, 0]\n",
      "Labels:  tensor([8, 8, 7, 3, 0])\n"
     ]
    },
    {
     "name": "stderr",
     "output_type": "stream",
     "text": [
      "2024-07-29 12:12:00,959 - INFO - Training set size: 90, Test set accuracy: 75.47, Test set loss: -0.0239\n",
      "Training Set Size:  95%|█████████▌| 95/100 [02:03<00:11,  2.26s/it]"
     ]
    },
    {
     "name": "stdout",
     "output_type": "stream",
     "text": [
      "Dataset indices:  [1252 1145 1590 4998 2287]\n",
      "Scores:  [0, 0, 0, 0, 0]\n",
      "Labels:  tensor([5, 3, 1, 5, 8])\n"
     ]
    },
    {
     "name": "stderr",
     "output_type": "stream",
     "text": [
      "2024-07-29 12:12:11,707 - INFO - Training set size: 95, Test set accuracy: 79.49, Test set loss: -0.0196\n",
      "Training Set Size: 100%|██████████| 100/100 [02:14<00:00,  2.23s/it]"
     ]
    },
    {
     "name": "stdout",
     "output_type": "stream",
     "text": [
      "Dataset indices:  [4759 2047 3675 1710 1125]\n",
      "Scores:  [0, 0, 0, 0, 0]\n",
      "Labels:  tensor([4, 5, 5, 4, 3])\n"
     ]
    },
    {
     "name": "stderr",
     "output_type": "stream",
     "text": [
      "2024-07-29 12:12:22,653 - INFO - Training set size: 100, Test set accuracy: 77.69, Test set loss: -0.0209\n",
      "Training Set Size: 100%|██████████| 100/100 [02:25<00:00,  2.42s/it]\n",
      "c:\\Users\\vince\\Documents\\Statistics\\TT\\msc_thesis\\.venv\\Lib\\site-packages\\torch\\utils\\data\\sampler.py:64: UserWarning: `data_source` argument is not used and will be removed in 2.2.0.You may still have custom implementation that utilizes it.\n",
      "  warnings.warn(\"`data_source` argument is not used and will be removed in 2.2.0.\"\n"
     ]
    },
    {
     "name": "stdout",
     "output_type": "stream",
     "text": [
      "Experiment saved in experiments\\10x_redundant_random_1\n"
     ]
    },
    {
     "name": "stderr",
     "output_type": "stream",
     "text": [
      "Training Set Size:  40%|████      | 40/100 [00:00<?, ?it/s]2024-07-29 12:12:33,345 - INFO - Training set size: 40, Test set accuracy: 73.04, Test set loss: -0.0117\n",
      "Training Set Size:  45%|████▌     | 45/100 [00:10<01:56,  2.11s/it]"
     ]
    },
    {
     "name": "stdout",
     "output_type": "stream",
     "text": [
      "Dataset indices:  [2129 2662  561 1407 1374]\n",
      "Scores:  [0, 0, 0, 0, 0]\n",
      "Labels:  tensor([2, 8, 0, 4, 7])\n"
     ]
    },
    {
     "name": "stderr",
     "output_type": "stream",
     "text": [
      "2024-07-29 12:12:44,112 - INFO - Training set size: 45, Test set accuracy: 74.34, Test set loss: -0.0201\n",
      "Training Set Size:  50%|█████     | 50/100 [00:21<01:46,  2.13s/it]"
     ]
    },
    {
     "name": "stdout",
     "output_type": "stream",
     "text": [
      "Dataset indices:  [2955  778 2927 1763 4976]\n",
      "Scores:  [0, 0, 0, 0, 0]\n",
      "Labels:  tensor([9, 4, 7, 3, 5])\n"
     ]
    },
    {
     "name": "stderr",
     "output_type": "stream",
     "text": [
      "2024-07-29 12:12:54,983 - INFO - Training set size: 50, Test set accuracy: 75.81, Test set loss: -0.0285\n",
      "Training Set Size:  55%|█████▌    | 55/100 [00:32<01:36,  2.15s/it]"
     ]
    },
    {
     "name": "stdout",
     "output_type": "stream",
     "text": [
      "Dataset indices:  [ 740 3926 4620 2076 1566]\n",
      "Scores:  [0, 0, 0, 0, 0]\n",
      "Labels:  tensor([3, 2, 4, 3, 9])\n"
     ]
    },
    {
     "name": "stderr",
     "output_type": "stream",
     "text": [
      "2024-07-29 12:13:05,746 - INFO - Training set size: 55, Test set accuracy: 76.15, Test set loss: -0.0208\n",
      "Training Set Size:  60%|██████    | 60/100 [00:42<01:26,  2.15s/it]"
     ]
    },
    {
     "name": "stdout",
     "output_type": "stream",
     "text": [
      "Dataset indices:  [1378 4712 1691 1019 3593]\n",
      "Scores:  [0, 0, 0, 0, 0]\n",
      "Labels:  tensor([3, 2, 7, 3, 1])\n"
     ]
    },
    {
     "name": "stderr",
     "output_type": "stream",
     "text": [
      "2024-07-29 12:13:16,446 - INFO - Training set size: 60, Test set accuracy: 75.42, Test set loss: -0.0201\n",
      "Training Set Size:  65%|██████▌   | 65/100 [00:53<01:15,  2.15s/it]"
     ]
    },
    {
     "name": "stdout",
     "output_type": "stream",
     "text": [
      "Dataset indices:  [2030  395 3746 3600 2747]\n",
      "Scores:  [0, 0, 0, 0, 0]\n",
      "Labels:  tensor([7, 8, 9, 5, 8])\n"
     ]
    },
    {
     "name": "stderr",
     "output_type": "stream",
     "text": [
      "2024-07-29 12:13:27,430 - INFO - Training set size: 65, Test set accuracy: 76.84, Test set loss: -0.0158\n",
      "Training Set Size:  70%|███████   | 70/100 [01:04<01:04,  2.17s/it]"
     ]
    },
    {
     "name": "stdout",
     "output_type": "stream",
     "text": [
      "Dataset indices:  [ 209 4913 3317 4440  802]\n",
      "Scores:  [0, 0, 0, 0, 0]\n",
      "Labels:  tensor([7, 6, 5, 5, 7])\n"
     ]
    },
    {
     "name": "stderr",
     "output_type": "stream",
     "text": [
      "2024-07-29 12:13:37,824 - INFO - Training set size: 70, Test set accuracy: 80.99, Test set loss: -0.0203\n",
      "Training Set Size:  75%|███████▌  | 75/100 [01:15<00:53,  2.14s/it]"
     ]
    },
    {
     "name": "stdout",
     "output_type": "stream",
     "text": [
      "Dataset indices:  [ 926  750 2197 1663 2660]\n",
      "Scores:  [0, 0, 0, 0, 0]\n",
      "Labels:  tensor([2, 2, 0, 0, 5])\n"
     ]
    },
    {
     "name": "stderr",
     "output_type": "stream",
     "text": [
      "2024-07-29 12:13:48,467 - INFO - Training set size: 75, Test set accuracy: 82.55, Test set loss: -0.0295\n",
      "Training Set Size:  80%|████████  | 80/100 [01:25<00:42,  2.13s/it]"
     ]
    },
    {
     "name": "stdout",
     "output_type": "stream",
     "text": [
      "Dataset indices:  [1953   15 1769 3920 2542]\n",
      "Scores:  [0, 0, 0, 0, 0]\n",
      "Labels:  tensor([5, 9, 4, 8, 3])\n"
     ]
    },
    {
     "name": "stderr",
     "output_type": "stream",
     "text": [
      "2024-07-29 12:13:59,158 - INFO - Training set size: 80, Test set accuracy: 78.68, Test set loss: -0.0185\n",
      "Training Set Size:  85%|████████▌ | 85/100 [01:36<00:32,  2.14s/it]"
     ]
    },
    {
     "name": "stdout",
     "output_type": "stream",
     "text": [
      "Dataset indices:  [2505   72 3995  943 2638]\n",
      "Scores:  [0, 0, 0, 0, 0]\n",
      "Labels:  tensor([2, 1, 6, 5, 5])\n"
     ]
    },
    {
     "name": "stderr",
     "output_type": "stream",
     "text": [
      "2024-07-29 12:14:10,737 - INFO - Training set size: 85, Test set accuracy: 82.95, Test set loss: -0.0205\n",
      "Training Set Size:  90%|█████████ | 90/100 [01:47<00:21,  2.19s/it]"
     ]
    },
    {
     "name": "stdout",
     "output_type": "stream",
     "text": [
      "Dataset indices:  [1440 1865 2186 2267 2144]\n",
      "Scores:  [0, 0, 0, 0, 0]\n",
      "Labels:  tensor([5, 6, 9, 8, 8])\n"
     ]
    },
    {
     "name": "stderr",
     "output_type": "stream",
     "text": [
      "2024-07-29 12:14:22,145 - INFO - Training set size: 90, Test set accuracy: 82.76, Test set loss: -0.0233\n",
      "Training Set Size:  95%|█████████▌| 95/100 [01:59<00:11,  2.22s/it]"
     ]
    },
    {
     "name": "stdout",
     "output_type": "stream",
     "text": [
      "Dataset indices:  [4381 3420 4196 4036 2474]\n",
      "Scores:  [0, 0, 0, 0, 0]\n",
      "Labels:  tensor([0, 8, 9, 2, 4])\n"
     ]
    },
    {
     "name": "stderr",
     "output_type": "stream",
     "text": [
      "2024-07-29 12:14:33,188 - INFO - Training set size: 95, Test set accuracy: 82.82, Test set loss: -0.0200\n",
      "Training Set Size: 100%|██████████| 100/100 [02:10<00:00,  2.22s/it]"
     ]
    },
    {
     "name": "stdout",
     "output_type": "stream",
     "text": [
      "Dataset indices:  [4058 4929 3084  392 1030]\n",
      "Scores:  [0, 0, 0, 0, 0]\n",
      "Labels:  tensor([2, 0, 2, 3, 7])\n"
     ]
    },
    {
     "name": "stderr",
     "output_type": "stream",
     "text": [
      "2024-07-29 12:14:43,897 - INFO - Training set size: 100, Test set accuracy: 81.31, Test set loss: -0.0222\n",
      "Training Set Size: 100%|██████████| 100/100 [02:21<00:00,  2.35s/it]\n",
      "c:\\Users\\vince\\Documents\\Statistics\\TT\\msc_thesis\\.venv\\Lib\\site-packages\\torch\\utils\\data\\sampler.py:64: UserWarning: `data_source` argument is not used and will be removed in 2.2.0.You may still have custom implementation that utilizes it.\n",
      "  warnings.warn(\"`data_source` argument is not used and will be removed in 2.2.0.\"\n"
     ]
    },
    {
     "name": "stdout",
     "output_type": "stream",
     "text": [
      "Experiment saved in experiments\\10x_redundant_random_2\n"
     ]
    },
    {
     "name": "stderr",
     "output_type": "stream",
     "text": [
      "Training Set Size:  40%|████      | 40/100 [00:00<?, ?it/s]2024-07-29 12:14:55,095 - INFO - Training set size: 40, Test set accuracy: 74.26, Test set loss: -0.0161\n",
      "Training Set Size:  45%|████▌     | 45/100 [00:11<02:01,  2.21s/it]"
     ]
    },
    {
     "name": "stdout",
     "output_type": "stream",
     "text": [
      "Dataset indices:  [4821 1360 4005 3185 1276]\n",
      "Scores:  [0, 0, 0, 0, 0]\n",
      "Labels:  tensor([8, 5, 2, 7, 1])\n"
     ]
    },
    {
     "name": "stderr",
     "output_type": "stream",
     "text": [
      "2024-07-29 12:15:05,696 - INFO - Training set size: 45, Test set accuracy: 76.06, Test set loss: -0.0153\n",
      "Training Set Size:  50%|█████     | 50/100 [00:21<01:47,  2.15s/it]"
     ]
    },
    {
     "name": "stdout",
     "output_type": "stream",
     "text": [
      "Dataset indices:  [ 724 3735  353 2545 3618]\n",
      "Scores:  [0, 0, 0, 0, 0]\n",
      "Labels:  tensor([7, 5, 8, 7, 4])\n"
     ]
    },
    {
     "name": "stderr",
     "output_type": "stream",
     "text": [
      "2024-07-29 12:15:17,348 - INFO - Training set size: 50, Test set accuracy: 77.37, Test set loss: -0.0207\n",
      "Training Set Size:  55%|█████▌    | 55/100 [00:33<01:40,  2.24s/it]"
     ]
    },
    {
     "name": "stdout",
     "output_type": "stream",
     "text": [
      "Dataset indices:  [2868 4321 4878  642 2151]\n",
      "Scores:  [0, 0, 0, 0, 0]\n",
      "Labels:  tensor([6, 8, 3, 4, 8])\n"
     ]
    },
    {
     "name": "stderr",
     "output_type": "stream",
     "text": [
      "2024-07-29 12:15:28,345 - INFO - Training set size: 55, Test set accuracy: 78.91, Test set loss: -0.0179\n",
      "Training Set Size:  60%|██████    | 60/100 [00:44<01:28,  2.22s/it]"
     ]
    },
    {
     "name": "stdout",
     "output_type": "stream",
     "text": [
      "Dataset indices:  [ 237 3338  968  379 1124]\n",
      "Scores:  [0, 0, 0, 0, 0]\n",
      "Labels:  tensor([4, 0, 0, 3, 7])\n"
     ]
    },
    {
     "name": "stderr",
     "output_type": "stream",
     "text": [
      "2024-07-29 12:15:39,178 - INFO - Training set size: 60, Test set accuracy: 80.01, Test set loss: -0.0210\n",
      "Training Set Size:  65%|██████▌   | 65/100 [00:55<01:17,  2.20s/it]"
     ]
    },
    {
     "name": "stdout",
     "output_type": "stream",
     "text": [
      "Dataset indices:  [1794   16 4188 4639 2441]\n",
      "Scores:  [0, 0, 0, 0, 0]\n",
      "Labels:  tensor([6, 0, 6, 7, 8])\n"
     ]
    },
    {
     "name": "stderr",
     "output_type": "stream",
     "text": [
      "2024-07-29 12:15:50,074 - INFO - Training set size: 65, Test set accuracy: 80.70, Test set loss: -0.0172\n",
      "Training Set Size:  70%|███████   | 70/100 [01:06<01:05,  2.19s/it]"
     ]
    },
    {
     "name": "stdout",
     "output_type": "stream",
     "text": [
      "Dataset indices:  [3941  172 4688  428 1105]\n",
      "Scores:  [0, 0, 0, 0, 0]\n",
      "Labels:  tensor([8, 6, 6, 9, 8])\n"
     ]
    },
    {
     "name": "stderr",
     "output_type": "stream",
     "text": [
      "2024-07-29 12:16:00,546 - INFO - Training set size: 70, Test set accuracy: 80.40, Test set loss: -0.0298\n",
      "Training Set Size:  75%|███████▌  | 75/100 [01:16<00:54,  2.16s/it]"
     ]
    },
    {
     "name": "stdout",
     "output_type": "stream",
     "text": [
      "Dataset indices:  [3758  650 4384 1445 1885]\n",
      "Scores:  [0, 0, 0, 0, 0]\n",
      "Labels:  tensor([1, 3, 4, 8, 2])\n"
     ]
    },
    {
     "name": "stderr",
     "output_type": "stream",
     "text": [
      "2024-07-29 12:16:12,005 - INFO - Training set size: 75, Test set accuracy: 83.54, Test set loss: -0.0211\n",
      "Training Set Size:  80%|████████  | 80/100 [01:27<00:44,  2.20s/it]"
     ]
    },
    {
     "name": "stdout",
     "output_type": "stream",
     "text": [
      "Dataset indices:  [1192 2898 3483  692 1680]\n",
      "Scores:  [0, 0, 0, 0, 0]\n",
      "Labels:  tensor([1, 9, 8, 1, 3])\n"
     ]
    },
    {
     "name": "stderr",
     "output_type": "stream",
     "text": [
      "2024-07-29 12:16:23,839 - INFO - Training set size: 80, Test set accuracy: 83.63, Test set loss: -0.0300\n",
      "Training Set Size:  85%|████████▌ | 85/100 [01:39<00:33,  2.25s/it]"
     ]
    },
    {
     "name": "stdout",
     "output_type": "stream",
     "text": [
      "Dataset indices:  [2255 4185 1586 3200 1230]\n",
      "Scores:  [0, 0, 0, 0, 0]\n",
      "Labels:  tensor([8, 7, 5, 1, 9])\n"
     ]
    },
    {
     "name": "stderr",
     "output_type": "stream",
     "text": [
      "2024-07-29 12:16:35,297 - INFO - Training set size: 85, Test set accuracy: 83.18, Test set loss: -0.0232\n",
      "Training Set Size:  90%|█████████ | 90/100 [01:51<00:22,  2.27s/it]"
     ]
    },
    {
     "name": "stdout",
     "output_type": "stream",
     "text": [
      "Dataset indices:  [3904 3580 4511 1887 4151]\n",
      "Scores:  [0, 0, 0, 0, 0]\n",
      "Labels:  tensor([8, 6, 3, 3, 8])\n"
     ]
    },
    {
     "name": "stderr",
     "output_type": "stream",
     "text": [
      "2024-07-29 12:16:46,711 - INFO - Training set size: 90, Test set accuracy: 83.08, Test set loss: -0.0360\n",
      "Training Set Size:  95%|█████████▌| 95/100 [02:02<00:11,  2.27s/it]"
     ]
    },
    {
     "name": "stdout",
     "output_type": "stream",
     "text": [
      "Dataset indices:  [ 668 2924 1154 3967 1623]\n",
      "Scores:  [0, 0, 0, 0, 0]\n",
      "Labels:  tensor([8, 4, 8, 7, 6])\n"
     ]
    },
    {
     "name": "stderr",
     "output_type": "stream",
     "text": [
      "2024-07-29 12:16:57,889 - INFO - Training set size: 95, Test set accuracy: 82.09, Test set loss: -0.0212\n",
      "Training Set Size: 100%|██████████| 100/100 [02:13<00:00,  2.26s/it]"
     ]
    },
    {
     "name": "stdout",
     "output_type": "stream",
     "text": [
      "Dataset indices:  [2162 2470 4184 1305 3071]\n",
      "Scores:  [0, 0, 0, 0, 0]\n",
      "Labels:  tensor([2, 4, 9, 2, 1])\n"
     ]
    },
    {
     "name": "stderr",
     "output_type": "stream",
     "text": [
      "2024-07-29 12:17:09,143 - INFO - Training set size: 100, Test set accuracy: 83.56, Test set loss: -0.0226\n",
      "Training Set Size: 100%|██████████| 100/100 [02:25<00:00,  2.42s/it]\n",
      "c:\\Users\\vince\\Documents\\Statistics\\TT\\msc_thesis\\.venv\\Lib\\site-packages\\torch\\utils\\data\\sampler.py:64: UserWarning: `data_source` argument is not used and will be removed in 2.2.0.You may still have custom implementation that utilizes it.\n",
      "  warnings.warn(\"`data_source` argument is not used and will be removed in 2.2.0.\"\n"
     ]
    },
    {
     "name": "stdout",
     "output_type": "stream",
     "text": [
      "Experiment saved in experiments\\10x_redundant_random_3\n"
     ]
    },
    {
     "name": "stderr",
     "output_type": "stream",
     "text": [
      "Training Set Size:  40%|████      | 40/100 [00:00<?, ?it/s]2024-07-29 12:17:20,408 - INFO - Training set size: 40, Test set accuracy: 75.45, Test set loss: -0.0227\n",
      "Training Set Size:  45%|████▌     | 45/100 [00:11<02:02,  2.22s/it]"
     ]
    },
    {
     "name": "stdout",
     "output_type": "stream",
     "text": [
      "Dataset indices:  [2010 1709 4348  142 3400]\n",
      "Scores:  [0, 0, 0, 0, 0]\n",
      "Labels:  tensor([5, 5, 0, 3, 4])\n"
     ]
    },
    {
     "name": "stderr",
     "output_type": "stream",
     "text": [
      "2024-07-29 12:17:32,239 - INFO - Training set size: 45, Test set accuracy: 73.70, Test set loss: -0.0217\n",
      "Training Set Size:  50%|█████     | 50/100 [00:22<01:55,  2.31s/it]"
     ]
    },
    {
     "name": "stdout",
     "output_type": "stream",
     "text": [
      "Dataset indices:  [4243 3517 4121  384  761]\n",
      "Scores:  [0, 0, 0, 0, 0]\n",
      "Labels:  tensor([1, 2, 0, 5, 5])\n"
     ]
    },
    {
     "name": "stderr",
     "output_type": "stream",
     "text": [
      "2024-07-29 12:17:43,829 - INFO - Training set size: 50, Test set accuracy: 72.99, Test set loss: -0.0222\n",
      "Training Set Size:  55%|█████▌    | 55/100 [00:34<01:44,  2.31s/it]"
     ]
    },
    {
     "name": "stdout",
     "output_type": "stream",
     "text": [
      "Dataset indices:  [ 252 1551  463  883 4010]\n",
      "Scores:  [0, 0, 0, 0, 0]\n",
      "Labels:  tensor([1, 8, 0, 4, 5])\n"
     ]
    },
    {
     "name": "stderr",
     "output_type": "stream",
     "text": [
      "2024-07-29 12:17:56,632 - INFO - Training set size: 55, Test set accuracy: 78.32, Test set loss: -0.0292\n",
      "Training Set Size:  60%|██████    | 60/100 [00:47<01:36,  2.41s/it]"
     ]
    },
    {
     "name": "stdout",
     "output_type": "stream",
     "text": [
      "Dataset indices:  [ 121  380  600 4998 1118]\n",
      "Scores:  [0, 0, 0, 0, 0]\n",
      "Labels:  tensor([0, 6, 8, 0, 8])\n"
     ]
    },
    {
     "name": "stderr",
     "output_type": "stream",
     "text": [
      "2024-07-29 12:18:08,416 - INFO - Training set size: 60, Test set accuracy: 76.74, Test set loss: -0.0119\n",
      "Training Set Size:  65%|██████▌   | 65/100 [00:59<01:23,  2.39s/it]"
     ]
    },
    {
     "name": "stdout",
     "output_type": "stream",
     "text": [
      "Dataset indices:  [2895 3435 2434 3685 2739]\n",
      "Scores:  [0, 0, 0, 0, 0]\n",
      "Labels:  tensor([7, 7, 9, 9, 5])\n"
     ]
    },
    {
     "name": "stderr",
     "output_type": "stream",
     "text": [
      "2024-07-29 12:18:20,154 - INFO - Training set size: 65, Test set accuracy: 76.97, Test set loss: -0.0230\n",
      "Training Set Size:  70%|███████   | 70/100 [01:10<01:11,  2.38s/it]"
     ]
    },
    {
     "name": "stdout",
     "output_type": "stream",
     "text": [
      "Dataset indices:  [1811 2690   89 4101 4215]\n",
      "Scores:  [0, 0, 0, 0, 0]\n",
      "Labels:  tensor([1, 4, 2, 2, 9])\n"
     ]
    },
    {
     "name": "stderr",
     "output_type": "stream",
     "text": [
      "2024-07-29 12:18:31,522 - INFO - Training set size: 70, Test set accuracy: 77.46, Test set loss: -0.0202\n",
      "Training Set Size:  75%|███████▌  | 75/100 [01:22<00:58,  2.34s/it]"
     ]
    },
    {
     "name": "stdout",
     "output_type": "stream",
     "text": [
      "Dataset indices:  [4966 4528 2335 4703 1832]\n",
      "Scores:  [0, 0, 0, 0, 0]\n",
      "Labels:  tensor([6, 3, 0, 7, 8])\n"
     ]
    },
    {
     "name": "stderr",
     "output_type": "stream",
     "text": [
      "2024-07-29 12:18:42,393 - INFO - Training set size: 75, Test set accuracy: 81.92, Test set loss: -0.0228\n",
      "Training Set Size:  80%|████████  | 80/100 [01:33<00:45,  2.29s/it]"
     ]
    },
    {
     "name": "stdout",
     "output_type": "stream",
     "text": [
      "Dataset indices:  [4894  929 4665 3984 3201]\n",
      "Scores:  [0, 0, 0, 0, 0]\n",
      "Labels:  tensor([8, 1, 2, 5, 8])\n"
     ]
    },
    {
     "name": "stderr",
     "output_type": "stream",
     "text": [
      "2024-07-29 12:18:53,902 - INFO - Training set size: 80, Test set accuracy: 82.61, Test set loss: -0.0255\n",
      "Training Set Size:  85%|████████▌ | 85/100 [01:44<00:34,  2.29s/it]"
     ]
    },
    {
     "name": "stdout",
     "output_type": "stream",
     "text": [
      "Dataset indices:  [2408 4830   45 1382 2523]\n",
      "Scores:  [0, 0, 0, 0, 0]\n",
      "Labels:  tensor([7, 9, 9, 0, 5])\n"
     ]
    },
    {
     "name": "stderr",
     "output_type": "stream",
     "text": [
      "2024-07-29 12:19:04,827 - INFO - Training set size: 85, Test set accuracy: 80.79, Test set loss: -0.0275\n",
      "Training Set Size:  90%|█████████ | 90/100 [01:55<00:22,  2.26s/it]"
     ]
    },
    {
     "name": "stdout",
     "output_type": "stream",
     "text": [
      "Dataset indices:  [4676 4875 2126 1858  826]\n",
      "Scores:  [0, 0, 0, 0, 0]\n",
      "Labels:  tensor([3, 0, 8, 7, 6])\n"
     ]
    },
    {
     "name": "stderr",
     "output_type": "stream",
     "text": [
      "2024-07-29 12:19:16,048 - INFO - Training set size: 90, Test set accuracy: 80.45, Test set loss: -0.0237\n",
      "Training Set Size:  95%|█████████▌| 95/100 [02:06<00:11,  2.25s/it]"
     ]
    },
    {
     "name": "stdout",
     "output_type": "stream",
     "text": [
      "Dataset indices:  [3862 3847 3074 2965 3251]\n",
      "Scores:  [0, 0, 0, 0, 0]\n",
      "Labels:  tensor([1, 4, 0, 5, 2])\n"
     ]
    },
    {
     "name": "stderr",
     "output_type": "stream",
     "text": [
      "2024-07-29 12:19:27,262 - INFO - Training set size: 95, Test set accuracy: 81.33, Test set loss: -0.0186\n",
      "Training Set Size: 100%|██████████| 100/100 [02:17<00:00,  2.25s/it]"
     ]
    },
    {
     "name": "stdout",
     "output_type": "stream",
     "text": [
      "Dataset indices:  [1347 1884 4151 3870 2549]\n",
      "Scores:  [0, 0, 0, 0, 0]\n",
      "Labels:  tensor([4, 5, 3, 6, 4])\n"
     ]
    },
    {
     "name": "stderr",
     "output_type": "stream",
     "text": [
      "2024-07-29 12:19:39,519 - INFO - Training set size: 100, Test set accuracy: 81.80, Test set loss: -0.0188\n",
      "Training Set Size: 100%|██████████| 100/100 [02:30<00:00,  2.50s/it]\n",
      "c:\\Users\\vince\\Documents\\Statistics\\TT\\msc_thesis\\.venv\\Lib\\site-packages\\torch\\utils\\data\\sampler.py:64: UserWarning: `data_source` argument is not used and will be removed in 2.2.0.You may still have custom implementation that utilizes it.\n",
      "  warnings.warn(\"`data_source` argument is not used and will be removed in 2.2.0.\"\n"
     ]
    },
    {
     "name": "stdout",
     "output_type": "stream",
     "text": [
      "Experiment saved in experiments\\10x_redundant_random_4\n"
     ]
    },
    {
     "name": "stderr",
     "output_type": "stream",
     "text": [
      "Training Set Size:  40%|████      | 40/100 [00:00<?, ?it/s]2024-07-29 12:19:50,218 - INFO - Training set size: 40, Test set accuracy: 69.61, Test set loss: -0.0254\n",
      "Training Set Size:  45%|████▌     | 45/100 [00:10<01:56,  2.11s/it]"
     ]
    },
    {
     "name": "stdout",
     "output_type": "stream",
     "text": [
      "Dataset indices:  [1701  864  682 3962 4965]\n",
      "Scores:  [0, 0, 0, 0, 0]\n",
      "Labels:  tensor([6, 7, 9, 7, 0])\n"
     ]
    },
    {
     "name": "stderr",
     "output_type": "stream",
     "text": [
      "2024-07-29 12:20:00,899 - INFO - Training set size: 45, Test set accuracy: 69.02, Test set loss: -0.0187\n",
      "Training Set Size:  50%|█████     | 50/100 [00:21<01:46,  2.13s/it]"
     ]
    },
    {
     "name": "stdout",
     "output_type": "stream",
     "text": [
      "Dataset indices:  [1236 3397 3716 1692 3826]\n",
      "Scores:  [0, 0, 0, 0, 0]\n",
      "Labels:  tensor([5, 6, 9, 1, 9])\n"
     ]
    },
    {
     "name": "stderr",
     "output_type": "stream",
     "text": [
      "2024-07-29 12:20:12,523 - INFO - Training set size: 50, Test set accuracy: 71.47, Test set loss: -0.0184\n",
      "Training Set Size:  55%|█████▌    | 55/100 [00:32<01:39,  2.22s/it]"
     ]
    },
    {
     "name": "stdout",
     "output_type": "stream",
     "text": [
      "Dataset indices:  [4015 3097 1287  838 4093]\n",
      "Scores:  [0, 0, 0, 0, 0]\n",
      "Labels:  tensor([6, 5, 9, 5, 6])\n"
     ]
    },
    {
     "name": "stderr",
     "output_type": "stream",
     "text": [
      "2024-07-29 12:20:23,837 - INFO - Training set size: 55, Test set accuracy: 69.27, Test set loss: -0.0263\n",
      "Training Set Size:  60%|██████    | 60/100 [00:44<01:29,  2.24s/it]"
     ]
    },
    {
     "name": "stdout",
     "output_type": "stream",
     "text": [
      "Dataset indices:  [2088  615 1289 1730 3998]\n",
      "Scores:  [0, 0, 0, 0, 0]\n",
      "Labels:  tensor([7, 9, 3, 3, 4])\n"
     ]
    },
    {
     "name": "stderr",
     "output_type": "stream",
     "text": [
      "2024-07-29 12:20:34,609 - INFO - Training set size: 60, Test set accuracy: 74.80, Test set loss: -0.0241\n",
      "Training Set Size:  65%|██████▌   | 65/100 [00:54<01:17,  2.21s/it]"
     ]
    },
    {
     "name": "stdout",
     "output_type": "stream",
     "text": [
      "Dataset indices:  [3797 3492 1389 2463 1482]\n",
      "Scores:  [0, 0, 0, 0, 0]\n",
      "Labels:  tensor([9, 6, 8, 7, 6])\n"
     ]
    },
    {
     "name": "stderr",
     "output_type": "stream",
     "text": [
      "2024-07-29 12:20:45,771 - INFO - Training set size: 65, Test set accuracy: 74.02, Test set loss: -0.0255\n",
      "Training Set Size:  70%|███████   | 70/100 [01:06<01:06,  2.22s/it]"
     ]
    },
    {
     "name": "stdout",
     "output_type": "stream",
     "text": [
      "Dataset indices:  [4921 3096 4164 2982 2266]\n",
      "Scores:  [0, 0, 0, 0, 0]\n",
      "Labels:  tensor([0, 9, 7, 6, 0])\n"
     ]
    },
    {
     "name": "stderr",
     "output_type": "stream",
     "text": [
      "2024-07-29 12:20:57,584 - INFO - Training set size: 70, Test set accuracy: 76.12, Test set loss: -0.0233\n",
      "Training Set Size:  75%|███████▌  | 75/100 [01:17<00:56,  2.26s/it]"
     ]
    },
    {
     "name": "stdout",
     "output_type": "stream",
     "text": [
      "Dataset indices:  [ 772 2840 3540  905 3960]\n",
      "Scores:  [0, 0, 0, 0, 0]\n",
      "Labels:  tensor([3, 7, 4, 3, 2])\n"
     ]
    },
    {
     "name": "stderr",
     "output_type": "stream",
     "text": [
      "2024-07-29 12:21:07,919 - INFO - Training set size: 75, Test set accuracy: 77.84, Test set loss: -0.0092\n",
      "Training Set Size:  80%|████████  | 80/100 [01:28<00:44,  2.20s/it]"
     ]
    },
    {
     "name": "stdout",
     "output_type": "stream",
     "text": [
      "Dataset indices:  [2083 4096  131 1886  996]\n",
      "Scores:  [0, 0, 0, 0, 0]\n",
      "Labels:  tensor([4, 9, 1, 7, 2])\n"
     ]
    },
    {
     "name": "stderr",
     "output_type": "stream",
     "text": [
      "2024-07-29 12:21:19,115 - INFO - Training set size: 80, Test set accuracy: 75.65, Test set loss: -0.0196\n",
      "Training Set Size:  85%|████████▌ | 85/100 [01:39<00:33,  2.21s/it]"
     ]
    },
    {
     "name": "stdout",
     "output_type": "stream",
     "text": [
      "Dataset indices:  [ 365 1492   19 4889 3245]\n",
      "Scores:  [0, 0, 0, 0, 0]\n",
      "Labels:  tensor([8, 6, 2, 8, 6])\n"
     ]
    },
    {
     "name": "stderr",
     "output_type": "stream",
     "text": [
      "2024-07-29 12:21:30,310 - INFO - Training set size: 85, Test set accuracy: 76.22, Test set loss: -0.0190\n",
      "Training Set Size:  90%|█████████ | 90/100 [01:50<00:22,  2.22s/it]"
     ]
    },
    {
     "name": "stdout",
     "output_type": "stream",
     "text": [
      "Dataset indices:  [3246 1831 4098 4152  760]\n",
      "Scores:  [0, 0, 0, 0, 0]\n",
      "Labels:  tensor([9, 0, 8, 4, 1])\n"
     ]
    },
    {
     "name": "stderr",
     "output_type": "stream",
     "text": [
      "2024-07-29 12:21:41,925 - INFO - Training set size: 90, Test set accuracy: 79.30, Test set loss: -0.0251\n",
      "Training Set Size:  95%|█████████▌| 95/100 [02:02<00:11,  2.25s/it]"
     ]
    },
    {
     "name": "stdout",
     "output_type": "stream",
     "text": [
      "Dataset indices:  [1484  992 1906 3765 1775]\n",
      "Scores:  [0, 0, 0, 0, 0]\n",
      "Labels:  tensor([2, 6, 0, 1, 1])\n"
     ]
    },
    {
     "name": "stderr",
     "output_type": "stream",
     "text": [
      "2024-07-29 12:21:53,136 - INFO - Training set size: 95, Test set accuracy: 80.34, Test set loss: -0.0250\n",
      "Training Set Size: 100%|██████████| 100/100 [02:13<00:00,  2.25s/it]"
     ]
    },
    {
     "name": "stdout",
     "output_type": "stream",
     "text": [
      "Dataset indices:  [ 171 2614 4257 2134  281]\n",
      "Scores:  [0, 0, 0, 0, 0]\n",
      "Labels:  tensor([8, 8, 5, 1, 9])\n"
     ]
    },
    {
     "name": "stderr",
     "output_type": "stream",
     "text": [
      "2024-07-29 12:22:03,958 - INFO - Training set size: 100, Test set accuracy: 81.57, Test set loss: -0.0244\n",
      "Training Set Size: 100%|██████████| 100/100 [02:24<00:00,  2.41s/it]\n"
     ]
    },
    {
     "name": "stdout",
     "output_type": "stream",
     "text": [
      "Experiment saved in experiments\\10x_redundant_random_5\n"
     ]
    }
   ],
   "source": [
    "for i in range(num_runs):\n",
    "    # load data\n",
    "    train_loader, test_loader, pool_loader, active_learning_data = create_repeated_MNIST_dataloaders(config)\n",
    "    \n",
    "    # get results\n",
    "    results = run_active_learning(\n",
    "        train_loader=train_loader,\n",
    "        test_loader=test_loader, \n",
    "        pool_loader=pool_loader,\n",
    "        active_learning_data=active_learning_data,\n",
    "        model_constructor=ConvNet, \n",
    "        config=config, \n",
    "        device=device\n",
    "        )\n",
    "\n",
    "    # save results and configuration\n",
    "    if save_results:\n",
    "        experiment_id = experiment_name + '_' + str(i + 1)\n",
    "        save_experiment(config, results, experiment_id)"
   ]
  }
 ],
 "metadata": {
  "kernelspec": {
   "display_name": ".venv",
   "language": "python",
   "name": "python3"
  },
  "language_info": {
   "codemirror_mode": {
    "name": "ipython",
    "version": 3
   },
   "file_extension": ".py",
   "mimetype": "text/x-python",
   "name": "python",
   "nbconvert_exporter": "python",
   "pygments_lexer": "ipython3",
   "version": "3.12.1"
  }
 },
 "nbformat": 4,
 "nbformat_minor": 2
}
