{
 "cells": [
  {
   "cell_type": "code",
   "execution_count": 17,
   "metadata": {},
   "outputs": [
    {
     "name": "stdout",
     "output_type": "stream",
     "text": [
      "Using device: cpu\n"
     ]
    }
   ],
   "source": [
    "import torch\n",
    "import numpy as np\n",
    "\n",
    "\n",
    "from main.models import ConvNet\n",
    "from main.utils import save_experiment\n",
    "from dataclasses import dataclass\n",
    "from main.active_learning import run_active_learning\n",
    "from main.prepare_data import create_dataloaders\n",
    "from configurations import get_config\n",
    "\n",
    "\n",
    "%reload_ext autoreload\n",
    "%autoreload 2\n",
    "\n",
    "device = torch.device('cuda' if torch.cuda.is_available() else 'cpu')\n",
    "print(f\"Using device: {device}\")"
   ]
  },
  {
   "cell_type": "code",
   "execution_count": 18,
   "metadata": {},
   "outputs": [],
   "source": [
    "config = get_config(\n",
    "    method='random',\n",
    "    min_samples=20,\n",
    "    max_samples=200,\n",
    "    acquisition_batch_size=20,\n",
    "    dataset='mnist'\n",
    "    )\n",
    "\n",
    "experiment_name = 'random_mnist_20_to_200_B=20'\n",
    "\n",
    "save_results = True\n",
    "num_runs = 3"
   ]
  },
  {
   "cell_type": "code",
   "execution_count": null,
   "metadata": {},
   "outputs": [],
   "source": [
    "for i in range(num_runs):\n",
    "    # load data\n",
    "    train_loader, test_loader, pool_loader, active_learning_data = create_dataloaders(config)\n",
    "    \n",
    "    # get results\n",
    "    results = run_active_learning(\n",
    "        train_loader=train_loader,\n",
    "        test_loader=test_loader, \n",
    "        pool_loader=pool_loader,\n",
    "        active_learning_data=active_learning_data,\n",
    "        model_constructor=ConvNet, \n",
    "        config=config, \n",
    "        device=device\n",
    "        )\n",
    "\n",
    "    # save results and configuration\n",
    "    if save_results:\n",
    "        experiment_id = experiment_name + '_' + str(i + 1)\n",
    "        save_experiment(config, results, experiment_id)"
   ]
  }
 ],
 "metadata": {
  "kernelspec": {
   "display_name": ".venv",
   "language": "python",
   "name": "python3"
  },
  "language_info": {
   "codemirror_mode": {
    "name": "ipython",
    "version": 3
   },
   "file_extension": ".py",
   "mimetype": "text/x-python",
   "name": "python",
   "nbconvert_exporter": "python",
   "pygments_lexer": "ipython3",
   "version": "3.12.1"
  }
 },
 "nbformat": 4,
 "nbformat_minor": 2
}
