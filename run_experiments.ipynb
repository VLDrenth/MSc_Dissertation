{
 "cells": [
  {
   "cell_type": "code",
   "execution_count": null,
   "metadata": {},
   "outputs": [],
   "source": [
    "import torch\n",
    "\n",
    "import numpy as np\n",
    "from main.models import ConvNet\n",
    "from main.utils import save_experiment\n",
    "from dataclasses import dataclass\n",
    "from main.active_learning import run_active_learning\n",
    "from main.prepare_data import create_repeated_MNIST_dataloaders, create_MNIST_dataloaders\n",
    "\n",
    "%reload_ext autoreload\n",
    "%autoreload 2"
   ]
  },
  {
   "cell_type": "code",
   "execution_count": null,
   "metadata": {},
   "outputs": [],
   "source": [
    "# set configurations for redundant MNIST experiment\n",
    "@dataclass\n",
    "class ActiveLearningConfigRedundant:\n",
    "    subset_of_weights: str = 'last_layer'\n",
    "    hessian_structure: str = 'kron'\n",
    "    backend: str = 'AsdlGGN'\n",
    "    temperature: float = 1.0\n",
    "    max_training_samples: int = 100\n",
    "    acquisition_batch_size: int = 5\n",
    "    al_method: str = 'max_logdet_S'\n",
    "    test_batch_size: int = 512\n",
    "    num_classes: int = 10\n",
    "    num_initial_samples: int = 40\n",
    "    training_iterations: int = 4096 * 6\n",
    "    scoring_batch_size: int = 64\n",
    "    train_batch_size: int = 64\n",
    "    extract_pool: int = 0\n",
    "    num_repeats: int = 10\n",
    "    samples_per_digit: int = 50\n",
    "\n",
    "# set configurations\n",
    "@dataclass\n",
    "class ActiveLearningConfigMNIST:\n",
    "    subset_of_weights: str = 'last_layer'\n",
    "    hessian_structure: str = 'kron'\n",
    "    backend: str = 'AsdlGGN'\n",
    "    temperature: float = 1\n",
    "    max_training_samples: int = 100\n",
    "    acquisition_batch_size: int = 5\n",
    "    al_method: str = 'max_logdet_S'\n",
    "    test_batch_size: int = 512\n",
    "    num_classes: int = 10\n",
    "    num_initial_samples: int = 40\n",
    "    training_iterations: int = 4096 * 6\n",
    "    scoring_batch_size: int = 64\n",
    "    train_batch_size: int = 64\n",
    "    extract_pool: int = 55000  # number of samples to extract from the dataset (bit of a hack)\n",
    "\n",
    "\n",
    "experiment_name = 'mnist_logdet_hardlabel'  # provide descriptive name for the experiment\n",
    "\n",
    "config = ActiveLearningConfigMNIST()\n",
    "\n",
    "device = torch.device('cuda' if torch.cuda.is_available() else 'cpu')\n",
    "print(f\"Using device: {device}\")\n",
    "\n",
    "save_results = True\n",
    "num_runs = 5"
   ]
  },
  {
   "cell_type": "code",
   "execution_count": null,
   "metadata": {},
   "outputs": [],
   "source": [
    "for i in range(num_runs):\n",
    "    # load data\n",
    "    train_loader, test_loader, pool_loader, active_learning_data = create_MNIST_dataloaders(config)\n",
    "    \n",
    "    # get results\n",
    "    results = run_active_learning(\n",
    "        train_loader=train_loader,\n",
    "        test_loader=test_loader, \n",
    "        pool_loader=pool_loader,\n",
    "        active_learning_data=active_learning_data,\n",
    "        model_constructor=ConvNet, \n",
    "        config=config, \n",
    "        device=device\n",
    "        )\n",
    "\n",
    "    # save results and configuration\n",
    "    if save_results:\n",
    "        experiment_id = experiment_name + '_' + str(i + 1)\n",
    "        save_experiment(config, results, experiment_id)"
   ]
  }
 ],
 "metadata": {
  "kernelspec": {
   "display_name": ".venv",
   "language": "python",
   "name": "python3"
  },
  "language_info": {
   "codemirror_mode": {
    "name": "ipython",
    "version": 3
   },
   "file_extension": ".py",
   "mimetype": "text/x-python",
   "name": "python",
   "nbconvert_exporter": "python",
   "pygments_lexer": "ipython3",
   "version": "3.12.1"
  }
 },
 "nbformat": 4,
 "nbformat_minor": 2
}
