{
 "cells": [
  {
   "cell_type": "code",
   "execution_count": 1,
   "metadata": {},
   "outputs": [],
   "source": [
    "import torch\n",
    "import numpy as np\n",
    "import torch.nn as nn\n",
    "import torch.nn.functional as F\n",
    "import torchvision.datasets as datasets\n",
    "import matplotlib.pyplot as plt\n",
    "\n",
    "from torch.utils.data import DataLoader\n",
    "from torchvision.transforms import transforms\n",
    "from models import ConvNet\n",
    "from utils import train_model"
   ]
  },
  {
   "cell_type": "markdown",
   "metadata": {},
   "source": [
    "#### Loading data\n"
   ]
  },
  {
   "cell_type": "code",
   "execution_count": 2,
   "metadata": {},
   "outputs": [],
   "source": [
    "# Load the MNIST dataset\n",
    "train_dataset = datasets.MNIST(root='./data', train=True, download=True, transform=transforms.ToTensor())\n",
    "test_dataset = datasets.MNIST(root='./data', train=False, download=True, transform=transforms.ToTensor())"
   ]
  },
  {
   "cell_type": "code",
   "execution_count": 3,
   "metadata": {},
   "outputs": [
    {
     "data": {
      "text/plain": [
       "Text(0.5, 1.0, 'Label: 4')"
      ]
     },
     "execution_count": 3,
     "metadata": {},
     "output_type": "execute_result"
    },
    {
     "data": {
      "image/png": "[encoded data removed]",
      "text/plain": [
       "<Figure size 640x480 with 1 Axes>"
      ]
     },
     "metadata": {},
     "output_type": "display_data"
    }
   ],
   "source": [
    "# visualize a sample of the data to test if it is loaded correctly\n",
    "sample_idx = 2\n",
    "plt.imshow(train_dataset.data[sample_idx], cmap='gray')\n",
    "plt.title(f'Label: {train_dataset.targets[sample_idx]}')"
   ]
  },
  {
   "cell_type": "markdown",
   "metadata": {},
   "source": [
    "## Without active learning"
   ]
  },
  {
   "cell_type": "code",
   "execution_count": 53,
   "metadata": {},
   "outputs": [],
   "source": [
    "label_budget = 1000  # number of labels to use for training (with or without active learning)"
   ]
  },
  {
   "cell_type": "code",
   "execution_count": 59,
   "metadata": {},
   "outputs": [],
   "source": [
    "# using the DataLoader to load the data in batches\n",
    "batch_size = 32\n",
    "random_pool_idx = np.random.choice(len(train_dataset), label_budget, replace=False)\n",
    "train_loader = DataLoader(dataset=train_dataset, batch_size=batch_size, drop_last=True, sampler=torch.utils.data.SubsetRandomSampler(random_pool_idx))\n",
    "test_loader = DataLoader(dataset=test_dataset, batch_size=batch_size, shuffle=False)"
   ]
  },
  {
   "cell_type": "markdown",
   "metadata": {},
   "source": [
    "#### Training"
   ]
  },
  {
   "cell_type": "code",
   "execution_count": 60,
   "metadata": {},
   "outputs": [
    {
     "name": "stdout",
     "output_type": "stream",
     "text": [
      "Epoch 1/5\n",
      "Epoch 2/5\n",
      "Epoch 3/5\n",
      "Epoch 4/5\n",
      "Epoch 5/5\n"
     ]
    }
   ],
   "source": [
    "# Define the model as simple CNN\n",
    "model = ConvNet()\n",
    "train_model(model=model, train_loader=train_loader)"
   ]
  },
  {
   "cell_type": "markdown",
   "metadata": {},
   "source": [
    "#### Evaluation"
   ]
  },
  {
   "cell_type": "code",
   "execution_count": 61,
   "metadata": {},
   "outputs": [
    {
     "name": "stdout",
     "output_type": "stream",
     "text": [
      "Accuracy of the model on the 10000 test images: 81.68%\n"
     ]
    }
   ],
   "source": [
    "# Evaluate the model\n",
    "model.eval()\n",
    "\n",
    "with torch.no_grad():\n",
    "    correct = 0\n",
    "    total = 0\n",
    "    for images, labels in test_loader:\n",
    "        outputs = model(images)\n",
    "        _, predicted = torch.max(outputs, 1)\n",
    "        total += labels.size(0)\n",
    "        correct += (predicted == labels).sum().item()\n",
    "\n",
    "    print(f'Accuracy of the model on the 10000 test images: {100 * correct / total}%')\n"
   ]
  },
  {
   "cell_type": "markdown",
   "metadata": {},
   "source": [
    "## Active Learning"
   ]
  },
  {
   "cell_type": "markdown",
   "metadata": {},
   "source": [
    "Now doing image classification on MNIST but we start without labels. \n",
    "We start with random selection baseline."
   ]
  },
  {
   "cell_type": "code",
   "execution_count": 62,
   "metadata": {},
   "outputs": [
    {
     "name": "stdout",
     "output_type": "stream",
     "text": [
      "Active Learning Iteration 1/20\n",
      "Epoch 1/5\n",
      "Epoch 2/5\n",
      "Epoch 3/5\n",
      "Epoch 4/5\n",
      "Epoch 5/5\n",
      "Pool size: 525\n",
      "--------------------\n",
      "Active Learning Iteration 2/20\n",
      "Epoch 1/5\n",
      "Epoch 2/5\n",
      "Epoch 3/5\n",
      "Epoch 4/5\n",
      "Epoch 5/5\n",
      "Pool size: 550\n",
      "--------------------\n",
      "Active Learning Iteration 3/20\n",
      "Epoch 1/5\n",
      "Epoch 2/5\n",
      "Epoch 3/5\n",
      "Epoch 4/5\n",
      "Epoch 5/5\n",
      "Pool size: 575\n",
      "--------------------\n",
      "Active Learning Iteration 4/20\n",
      "Epoch 1/5\n",
      "Epoch 2/5\n",
      "Epoch 3/5\n",
      "Epoch 4/5\n",
      "Epoch 5/5\n",
      "Pool size: 600\n",
      "--------------------\n",
      "Active Learning Iteration 5/20\n",
      "Epoch 1/5\n",
      "Epoch 2/5\n",
      "Epoch 3/5\n",
      "Epoch 4/5\n",
      "Epoch 5/5\n",
      "Pool size: 625\n",
      "--------------------\n",
      "Active Learning Iteration 6/20\n",
      "Epoch 1/5\n",
      "Epoch 2/5\n",
      "Epoch 3/5\n",
      "Epoch 4/5\n",
      "Epoch 5/5\n",
      "Pool size: 650\n",
      "--------------------\n",
      "Active Learning Iteration 7/20\n",
      "Epoch 1/5\n",
      "Epoch 2/5\n",
      "Epoch 3/5\n",
      "Epoch 4/5\n",
      "Epoch 5/5\n",
      "Pool size: 675\n",
      "--------------------\n",
      "Active Learning Iteration 8/20\n",
      "Epoch 1/5\n",
      "Epoch 2/5\n",
      "Epoch 3/5\n",
      "Epoch 4/5\n",
      "Epoch 5/5\n",
      "Pool size: 700\n",
      "--------------------\n",
      "Active Learning Iteration 9/20\n",
      "Epoch 1/5\n",
      "Epoch 2/5\n",
      "Epoch 3/5\n",
      "Epoch 4/5\n",
      "Epoch 5/5\n",
      "Pool size: 725\n",
      "--------------------\n",
      "Active Learning Iteration 10/20\n",
      "Epoch 1/5\n",
      "Epoch 2/5\n",
      "Epoch 3/5\n",
      "Epoch 4/5\n",
      "Epoch 5/5\n",
      "Pool size: 750\n",
      "--------------------\n",
      "Active Learning Iteration 11/20\n",
      "Epoch 1/5\n",
      "Epoch 2/5\n",
      "Epoch 3/5\n",
      "Epoch 4/5\n",
      "Epoch 5/5\n",
      "Pool size: 775\n",
      "--------------------\n",
      "Active Learning Iteration 12/20\n",
      "Epoch 1/5\n",
      "Epoch 2/5\n",
      "Epoch 3/5\n",
      "Epoch 4/5\n",
      "Epoch 5/5\n",
      "Pool size: 800\n",
      "--------------------\n",
      "Active Learning Iteration 13/20\n",
      "Epoch 1/5\n",
      "Epoch 2/5\n",
      "Epoch 3/5\n",
      "Epoch 4/5\n",
      "Epoch 5/5\n",
      "Pool size: 825\n",
      "--------------------\n",
      "Active Learning Iteration 14/20\n",
      "Epoch 1/5\n",
      "Epoch 2/5\n",
      "Epoch 3/5\n",
      "Epoch 4/5\n",
      "Epoch 5/5\n",
      "Pool size: 850\n",
      "--------------------\n",
      "Active Learning Iteration 15/20\n",
      "Epoch 1/5\n",
      "Epoch 2/5\n",
      "Epoch 3/5\n",
      "Epoch 4/5\n",
      "Epoch 5/5\n",
      "Pool size: 875\n",
      "--------------------\n",
      "Active Learning Iteration 16/20\n",
      "Epoch 1/5\n",
      "Epoch 2/5\n",
      "Epoch 3/5\n",
      "Epoch 4/5\n",
      "Epoch 5/5\n",
      "Pool size: 900\n",
      "--------------------\n",
      "Active Learning Iteration 17/20\n",
      "Epoch 1/5\n",
      "Epoch 2/5\n",
      "Epoch 3/5\n",
      "Epoch 4/5\n",
      "Epoch 5/5\n",
      "Pool size: 925\n",
      "--------------------\n",
      "Active Learning Iteration 18/20\n",
      "Epoch 1/5\n",
      "Epoch 2/5\n",
      "Epoch 3/5\n",
      "Epoch 4/5\n",
      "Epoch 5/5\n",
      "Pool size: 950\n",
      "--------------------\n",
      "Active Learning Iteration 19/20\n",
      "Epoch 1/5\n",
      "Epoch 2/5\n",
      "Epoch 3/5\n",
      "Epoch 4/5\n",
      "Epoch 5/5\n",
      "Pool size: 975\n",
      "--------------------\n",
      "Active Learning Iteration 20/20\n",
      "Epoch 1/5\n",
      "Epoch 2/5\n",
      "Epoch 3/5\n",
      "Epoch 4/5\n",
      "Epoch 5/5\n",
      "Pool size: 1000\n",
      "--------------------\n"
     ]
    }
   ],
   "source": [
    "def active_learning_loop(train_dataset, initial_pool_size, n_samples, n_iterations, batch_size):\n",
    "    # Initialize the pool as random selection of X points from the training data\n",
    "    pool_idx = np.random.choice(len(train_dataset), initial_pool_size, replace=False)\n",
    "    \n",
    "    for iteration in range(n_iterations):\n",
    "        print(f\"Active Learning Iteration {iteration + 1}/{n_iterations}\")\n",
    "        \n",
    "        # Define loader for the pool data\n",
    "        pool_loader = DataLoader(dataset=train_dataset, batch_size=batch_size, \n",
    "                                 sampler=torch.utils.data.SubsetRandomSampler(pool_idx))\n",
    "        \n",
    "        # Define loader for the unlabeled data\n",
    "        unlabeled = list(set(range(len(train_dataset))) - set(pool_idx))\n",
    "        unlabeled_loader = DataLoader(dataset=train_dataset, batch_size=batch_size, \n",
    "                                      sampler=torch.utils.data.SubsetRandomSampler(unlabeled))\n",
    "        \n",
    "        # Train the model with the pool\n",
    "        model = ConvNet()\n",
    "        train_model(model=model, train_loader=pool_loader)\n",
    "        \n",
    "        # Calculate uncertainties for unlabeled data\n",
    "        model.eval()\n",
    "        uncertainties = []\n",
    "        with torch.no_grad():\n",
    "            for images, _ in unlabeled_loader:\n",
    "                outputs = model(images)\n",
    "                probs = F.softmax(outputs, dim=1)\n",
    "                entropy = -torch.sum(probs * torch.log(probs), dim=1)\n",
    "                uncertainties.append(entropy)\n",
    "        \n",
    "        uncertainties = torch.cat(uncertainties)\n",
    "        \n",
    "        # Select the indices of the most uncertain samples from the unlabeled data\n",
    "        most_uncertain_idx = np.argsort(uncertainties.numpy())[-n_samples:]\n",
    "        \n",
    "        # Get the indices of the selected samples in the original dataset\n",
    "        most_uncertain_idx = [unlabeled[i] for i in most_uncertain_idx]\n",
    "        \n",
    "        # Add the selected samples to the pool\n",
    "        pool_idx = np.concatenate((pool_idx, most_uncertain_idx))\n",
    "        \n",
    "        print(f\"Pool size: {len(pool_idx)}\")\n",
    "        print(\"--------------------\")\n",
    "    \n",
    "    return model, pool_idx\n",
    "\n",
    "def evaluate_model(model, data_loader):\n",
    "    model.eval()\n",
    "    correct = 0\n",
    "    total = 0\n",
    "    with torch.no_grad():\n",
    "        for images, labels in data_loader:\n",
    "            outputs = model(images)\n",
    "            _, predicted = torch.max(outputs, 1)\n",
    "            total += labels.size(0)\n",
    "            correct += (predicted == labels).sum().item()\n",
    "    return correct / total\n",
    "\n",
    "# Usage\n",
    "initial_pool_size = 500\n",
    "n_samples = 25\n",
    "n_iterations = (label_budget - initial_pool_size) // n_samples\n",
    "batch_size = 32\n",
    "\n",
    "final_model, final_pool_idx = active_learning_loop(train_dataset, initial_pool_size, n_samples, n_iterations, batch_size)"
   ]
  },
  {
   "cell_type": "code",
   "execution_count": 63,
   "metadata": {},
   "outputs": [
    {
     "name": "stdout",
     "output_type": "stream",
     "text": [
      "Train accuracy: 0.8649193548387096\n",
      "Test accuracy: 0.8839\n"
     ]
    }
   ],
   "source": [
    "# evaluate the model\n",
    "final_model.eval()\n",
    "train_acc = evaluate_model(final_model, train_loader)\n",
    "test_acc = evaluate_model(final_model, test_loader)\n",
    "\n",
    "print(f\"Train accuracy: {train_acc}\")\n",
    "print(f\"Test accuracy: {test_acc}\")\n"
   ]
  },
  {
   "cell_type": "code",
   "execution_count": 65,
   "metadata": {},
   "outputs": [
    {
     "data": {
      "image/png": "[encoded data removed]",
      "text/plain": [
       "<Figure size 640x480 with 1 Axes>"
      ]
     },
     "metadata": {},
     "output_type": "display_data"
    }
   ],
   "source": [
    "# compare class distribution of the random pool and the final pool\n",
    "_, random_pool_labels = zip(*[train_dataset[i] for i in random_pool_idx])\n",
    "_, final_pool_labels = zip(*[train_dataset[i] for i in final_pool_idx])\n",
    "\n",
    "plt.hist(random_pool_labels, bins=10, alpha=0.5, label='Random Pool')\n",
    "plt.hist(final_pool_labels, bins=10, alpha=0.5, label='Selected Pool')\n",
    "plt.legend()\n",
    "plt.show()"
   ]
  }
 ],
 "metadata": {
  "kernelspec": {
   "display_name": "Python 3",
   "language": "python",
   "name": "python3"
  },
  "language_info": {
   "codemirror_mode": {
    "name": "ipython",
    "version": 3
   },
   "file_extension": ".py",
   "mimetype": "text/x-python",
   "name": "python",
   "nbconvert_exporter": "python",
   "pygments_lexer": "ipython3",
   "version": "3.12.1"
  }
 },
 "nbformat": 4,
 "nbformat_minor": 2
}
