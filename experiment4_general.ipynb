{
 "cells": [
  {
   "cell_type": "markdown",
   "metadata": {},
   "source": [
    "# General Experiment.\n",
    "Modular setup of the AL experiments"
   ]
  },
  {
   "cell_type": "markdown",
   "metadata": {},
   "source": [
    "## libraries"
   ]
  },
  {
   "cell_type": "code",
   "execution_count": 1,
   "metadata": {},
   "outputs": [
    {
     "name": "stderr",
     "output_type": "stream",
     "text": [
      "c:\\Users\\vince\\Documents\\Statistics\\TT\\msc_thesis\\.venv\\Lib\\site-packages\\tqdm\\auto.py:21: TqdmWarning: IProgress not found. Please update jupyter and ipywidgets. See https://ipywidgets.readthedocs.io/en/stable/user_install.html\n",
      "  from .autonotebook import tqdm as notebook_tqdm\n"
     ]
    }
   ],
   "source": [
    "import torch\n",
    "import torch.nn as nn\n",
    "import torch.nn.functional as F\n",
    "\n",
    "import numpy as np\n",
    "import laplace\n",
    "import matplotlib.pyplot as plt\n",
    "from tqdm.auto import tqdm\n",
    "from batchbald_redux import repeated_mnist, active_learning, batchbald\n",
    "from main.models import BayesianConvNet, ConvNet\n",
    "from main.utils import save_experiment, load_experiment\n",
    "from laplace.curvature import BackPackGGN, CurvlinopsEF, CurvlinopsGGN, AsdfghjklGGN, AsdfghjklEF\n",
    "from main.laplace_batch import get_laplace_batch\n",
    "\n",
    "\n",
    "%reload_ext autoreload\n",
    "%autoreload 2"
   ]
  },
  {
   "cell_type": "markdown",
   "metadata": {},
   "source": [
    "## Data and experiment parameters"
   ]
  },
  {
   "cell_type": "code",
   "execution_count": 2,
   "metadata": {},
   "outputs": [
    {
     "name": "stdout",
     "output_type": "stream",
     "text": [
      "use_cuda: False\n"
     ]
    },
    {
     "name": "stderr",
     "output_type": "stream",
     "text": [
      "c:\\Users\\vince\\Documents\\Statistics\\TT\\msc_thesis\\.venv\\Lib\\site-packages\\torch\\utils\\data\\sampler.py:64: UserWarning: `data_source` argument is not used and will be removed in 2.2.0.You may still have custom implementation that utilizes it.\n",
      "  warnings.warn(\"`data_source` argument is not used and will be removed in 2.2.0.\"\n"
     ]
    }
   ],
   "source": [
    "# loading data\n",
    "train_dataset, test_dataset = repeated_mnist.create_MNIST_dataset()\n",
    "\n",
    "# number of initial samples \n",
    "num_initial_samples = 40\n",
    "num_classes = 10\n",
    "\n",
    "# get indices of initial samples\n",
    "initial_samples = active_learning.get_balanced_sample_indices(\n",
    "    repeated_mnist.get_targets(train_dataset), num_classes=num_classes, n_per_digit=num_initial_samples / num_classes\n",
    ")\n",
    "\n",
    "# Experiment parameters\n",
    "\n",
    "## Active learning parameters\n",
    "max_training_samples = 100  # Maximum number of samples to acquire from the pool dataset \n",
    "acquisition_batch_size = 2  # Number of samples to acquire in each acquisition step\n",
    "\n",
    "## Training parameters\n",
    "test_batch_size = 512  # Batch size for testing\n",
    "batch_size = 64  # Batch size for training\n",
    "scoring_batch_size = 64  # Batch size for scoring \n",
    "training_iterations_nn = 4096 * 6  # Number of training iterations (batches) to run\n",
    "training_iterations_la = 2**8  # Number of training iterations (batches) to run\n",
    "\n",
    "## Model parameters\n",
    "hessian_structure = \"kron\"  # Options: \"full\", \"kron\", \"lowrank\" and \"diag\"\n",
    "subset_of_weights = \"last_layer\"  # Options: \"all\", \"subnetwork\" and \"last_layer\"\n",
    "backend = CurvlinopsGGN  # Options: CurvlinopsGGN, CurvlinopsEF, AsdfgjklEF, AsdfghjklGGN, BackPackGGN\n",
    "al_method = 'bald'  # Options: \"logit_entropy\", \"probit_entropy\", \"entropy\", \"bald\"\n",
    "temperature = 1  # Temperature for LA model\n",
    "\n",
    "kwargs = {\"num_workers\": 1, \"pin_memory\": True}\n",
    "\n",
    "use_cuda = torch.cuda.is_available()\n",
    "device = \"cuda\" if use_cuda else \"cpu\"\n",
    "\n",
    "print(f\"use_cuda: {use_cuda}\")\n",
    "\n",
    "test_loader = torch.utils.data.DataLoader(test_dataset, batch_size=test_batch_size, shuffle=False, **kwargs)\n",
    "\n",
    "active_learning_data = active_learning.ActiveLearningData(train_dataset)\n",
    "\n",
    "# Split off the initial samples first.\n",
    "active_learning_data.acquire(initial_samples)\n",
    "\n",
    "# THIS REMOVES MOST OF THE POOL DATA. UNCOMMENT THIS TO TAKE ALL UNLABELLED DATA INTO ACCOUNT!\n",
    "active_learning_data.extract_dataset_from_pool(55000)\n",
    "\n",
    "train_loader_nn = torch.utils.data.DataLoader(\n",
    "    active_learning_data.training_dataset,\n",
    "    sampler=active_learning.RandomFixedLengthSampler(active_learning_data.training_dataset, training_iterations_nn),\n",
    "    batch_size=batch_size,\n",
    "    **kwargs,\n",
    ")\n",
    "\n",
    "train_loader_la = torch.utils.data.DataLoader(\n",
    "    active_learning_data.training_dataset,\n",
    "    sampler=active_learning.RandomFixedLengthSampler(active_learning_data.training_dataset, training_iterations_nn),\n",
    "    batch_size=batch_size,\n",
    "    **kwargs,\n",
    ")\n",
    "\n",
    "pool_loader = torch.utils.data.DataLoader(\n",
    "    active_learning_data.pool_dataset, batch_size=scoring_batch_size, shuffle=False, **kwargs\n",
    ")"
   ]
  },
  {
   "cell_type": "markdown",
   "metadata": {},
   "source": [
    "## Running Experiment"
   ]
  },
  {
   "cell_type": "code",
   "execution_count": 3,
   "metadata": {},
   "outputs": [
    {
     "name": "stderr",
     "output_type": "stream",
     "text": [
      "Training Set Size:  40%|████      | 40/100 [00:00<?, ?it/s]"
     ]
    },
    {
     "name": "stdout",
     "output_type": "stream",
     "text": [
      "Test set: Average loss: -0.0284, Accuracy: 6849/10000 (68.49%)\n",
      "Fitting Laplace\n"
     ]
    },
    {
     "name": "stderr",
     "output_type": "stream",
     "text": [
      "c:\\Users\\vince\\Documents\\Statistics\\TT\\msc_thesis\\.venv\\Lib\\site-packages\\laplace\\baselaplace.py:409: UserWarning: By default `link_approx` is `probit`. Make sure to set it equals to the way you want to call `la(test_data, pred_type=..., link_approx=...)`.\n",
      "  warnings.warn(\n"
     ]
    },
    {
     "name": "stdout",
     "output_type": "stream",
     "text": [
      "Optimizing prior precision\n",
      "Optimized prior precision is tensor([75.0312]).\n"
     ]
    },
    {
     "name": "stderr",
     "output_type": "stream",
     "text": [
      "Training Set Size:  42%|████▏     | 42/100 [00:49<24:06, 24.94s/it]"
     ]
    },
    {
     "name": "stdout",
     "output_type": "stream",
     "text": [
      "Dataset indices:  [6044 8185]\n",
      "Scores:  [0.24633169174194336, 0.23184537887573242]\n",
      "Labels:  tensor([2, 1])\n"
     ]
    },
    {
     "name": "stderr",
     "output_type": "stream",
     "text": []
    },
    {
     "name": "stdout",
     "output_type": "stream",
     "text": [
      "Test set: Average loss: -0.0109, Accuracy: 6956/10000 (69.56%)\n",
      "Fitting Laplace\n",
      "Optimizing prior precision\n",
      "Optimized prior precision is tensor([73.9427]).\n"
     ]
    },
    {
     "name": "stderr",
     "output_type": "stream",
     "text": [
      "Training Set Size:  44%|████▍     | 44/100 [01:42<24:04, 25.80s/it]"
     ]
    },
    {
     "name": "stdout",
     "output_type": "stream",
     "text": [
      "Dataset indices:  [52981 10914]\n",
      "Scores:  [0.1440523862838745, 0.12624579668045044]\n",
      "Labels:  tensor([5, 0])\n"
     ]
    },
    {
     "name": "stderr",
     "output_type": "stream",
     "text": []
    },
    {
     "name": "stdout",
     "output_type": "stream",
     "text": [
      "Test set: Average loss: -0.0174, Accuracy: 7394/10000 (73.94%)\n",
      "Fitting Laplace\n",
      "Optimizing prior precision\n",
      "Optimized prior precision is tensor([77.3548]).\n"
     ]
    },
    {
     "name": "stderr",
     "output_type": "stream",
     "text": [
      "Training Set Size:  46%|████▌     | 46/100 [02:36<23:38, 26.27s/it]"
     ]
    },
    {
     "name": "stdout",
     "output_type": "stream",
     "text": [
      "Dataset indices:  [37642 38025]\n",
      "Scores:  [0.2518647313117981, 0.18742328882217407]\n",
      "Labels:  tensor([0, 0])\n"
     ]
    },
    {
     "name": "stderr",
     "output_type": "stream",
     "text": []
    },
    {
     "name": "stdout",
     "output_type": "stream",
     "text": [
      "Test set: Average loss: -0.0158, Accuracy: 7482/10000 (74.82%)\n",
      "Fitting Laplace\n",
      "Optimizing prior precision\n",
      "Optimized prior precision is tensor([80.8615]).\n"
     ]
    },
    {
     "name": "stderr",
     "output_type": "stream",
     "text": [
      "Training Set Size:  48%|████▊     | 48/100 [03:29<22:54, 26.43s/it]"
     ]
    },
    {
     "name": "stdout",
     "output_type": "stream",
     "text": [
      "Dataset indices:  [48038 39827]\n",
      "Scores:  [0.16720759868621826, 0.10479706525802612]\n",
      "Labels:  tensor([3, 8])\n"
     ]
    },
    {
     "name": "stderr",
     "output_type": "stream",
     "text": []
    },
    {
     "name": "stdout",
     "output_type": "stream",
     "text": [
      "Test set: Average loss: -0.0284, Accuracy: 7815/10000 (78.15%)\n",
      "Fitting Laplace\n",
      "Optimizing prior precision\n",
      "Optimized prior precision is tensor([93.1616]).\n"
     ]
    },
    {
     "name": "stderr",
     "output_type": "stream",
     "text": [
      "Training Set Size:  50%|█████     | 50/100 [04:21<21:53, 26.27s/it]"
     ]
    },
    {
     "name": "stdout",
     "output_type": "stream",
     "text": [
      "Dataset indices:  [45291 45300]\n",
      "Scores:  [0.2724990248680115, 0.18758785724639893]\n",
      "Labels:  tensor([6, 6])\n"
     ]
    },
    {
     "name": "stderr",
     "output_type": "stream",
     "text": []
    },
    {
     "name": "stdout",
     "output_type": "stream",
     "text": [
      "Test set: Average loss: -0.0277, Accuracy: 7893/10000 (78.93%)\n",
      "Fitting Laplace\n",
      "Optimizing prior precision\n",
      "Optimized prior precision is tensor([82.4938]).\n"
     ]
    },
    {
     "name": "stderr",
     "output_type": "stream",
     "text": [
      "Training Set Size:  52%|█████▏    | 52/100 [05:14<21:06, 26.38s/it]"
     ]
    },
    {
     "name": "stdout",
     "output_type": "stream",
     "text": [
      "Dataset indices:  [ 5155 25489]\n",
      "Scores:  [0.1089712381362915, 0.08311975002288818]\n",
      "Labels:  tensor([4, 6])\n"
     ]
    },
    {
     "name": "stderr",
     "output_type": "stream",
     "text": []
    },
    {
     "name": "stdout",
     "output_type": "stream",
     "text": [
      "Test set: Average loss: -0.0246, Accuracy: 7748/10000 (77.48%)\n",
      "Fitting Laplace\n",
      "Optimizing prior precision\n",
      "Optimized prior precision is tensor([94.4517]).\n"
     ]
    },
    {
     "name": "stderr",
     "output_type": "stream",
     "text": [
      "Training Set Size:  54%|█████▍    | 54/100 [06:07<20:14, 26.40s/it]"
     ]
    },
    {
     "name": "stdout",
     "output_type": "stream",
     "text": [
      "Dataset indices:  [36216 44133]\n",
      "Scores:  [0.1244126558303833, 0.11172378063201904]\n",
      "Labels:  tensor([3, 2])\n"
     ]
    },
    {
     "name": "stderr",
     "output_type": "stream",
     "text": []
    },
    {
     "name": "stdout",
     "output_type": "stream",
     "text": [
      "Test set: Average loss: -0.0271, Accuracy: 7761/10000 (77.61%)\n",
      "Fitting Laplace\n",
      "Optimizing prior precision\n",
      "Optimized prior precision is tensor([88.2259]).\n"
     ]
    },
    {
     "name": "stderr",
     "output_type": "stream",
     "text": [
      "Training Set Size:  56%|█████▌    | 56/100 [07:01<19:30, 26.61s/it]"
     ]
    },
    {
     "name": "stdout",
     "output_type": "stream",
     "text": [
      "Dataset indices:  [48492 21491]\n",
      "Scores:  [0.10491865873336792, 0.09784162044525146]\n",
      "Labels:  tensor([6, 4])\n"
     ]
    },
    {
     "name": "stderr",
     "output_type": "stream",
     "text": []
    },
    {
     "name": "stdout",
     "output_type": "stream",
     "text": [
      "Test set: Average loss: -0.0258, Accuracy: 7848/10000 (78.48%)\n",
      "Fitting Laplace\n",
      "Optimizing prior precision\n",
      "Optimized prior precision is tensor([86.0782]).\n"
     ]
    },
    {
     "name": "stderr",
     "output_type": "stream",
     "text": [
      "Training Set Size:  58%|█████▊    | 58/100 [07:54<18:35, 26.57s/it]"
     ]
    },
    {
     "name": "stdout",
     "output_type": "stream",
     "text": [
      "Dataset indices:  [47757 46081]\n",
      "Scores:  [0.14905130863189697, 0.12844836711883545]\n",
      "Labels:  tensor([5, 7])\n"
     ]
    },
    {
     "name": "stderr",
     "output_type": "stream",
     "text": []
    },
    {
     "name": "stdout",
     "output_type": "stream",
     "text": [
      "Test set: Average loss: -0.0229, Accuracy: 8030/10000 (80.30%)\n",
      "Fitting Laplace\n",
      "Optimizing prior precision\n",
      "Optimized prior precision is tensor([91.2724]).\n"
     ]
    },
    {
     "name": "stderr",
     "output_type": "stream",
     "text": [
      "Training Set Size:  60%|██████    | 60/100 [08:48<17:47, 26.69s/it]"
     ]
    },
    {
     "name": "stdout",
     "output_type": "stream",
     "text": [
      "Dataset indices:  [40205  1117]\n",
      "Scores:  [0.14045941829681396, 0.11185777187347412]\n",
      "Labels:  tensor([3, 6])\n"
     ]
    },
    {
     "name": "stderr",
     "output_type": "stream",
     "text": []
    },
    {
     "name": "stdout",
     "output_type": "stream",
     "text": [
      "Test set: Average loss: -0.0201, Accuracy: 8076/10000 (80.76%)\n",
      "Fitting Laplace\n",
      "Optimizing prior precision\n",
      "Optimized prior precision is tensor([93.3278]).\n"
     ]
    },
    {
     "name": "stderr",
     "output_type": "stream",
     "text": [
      "Training Set Size:  62%|██████▏   | 62/100 [09:40<16:47, 26.50s/it]"
     ]
    },
    {
     "name": "stdout",
     "output_type": "stream",
     "text": [
      "Dataset indices:  [47704 50530]\n",
      "Scores:  [0.10717067122459412, 0.10585582256317139]\n",
      "Labels:  tensor([0, 8])\n"
     ]
    },
    {
     "name": "stderr",
     "output_type": "stream",
     "text": []
    },
    {
     "name": "stdout",
     "output_type": "stream",
     "text": [
      "Test set: Average loss: -0.0263, Accuracy: 8139/10000 (81.39%)\n",
      "Fitting Laplace\n",
      "Optimizing prior precision\n",
      "Optimized prior precision is tensor([85.0811]).\n"
     ]
    },
    {
     "name": "stderr",
     "output_type": "stream",
     "text": [
      "Training Set Size:  64%|██████▍   | 64/100 [10:34<15:54, 26.52s/it]"
     ]
    },
    {
     "name": "stdout",
     "output_type": "stream",
     "text": [
      "Dataset indices:  [38770 50395]\n",
      "Scores:  [0.08409518003463745, 0.08314001560211182]\n",
      "Labels:  tensor([2, 5])\n"
     ]
    },
    {
     "name": "stderr",
     "output_type": "stream",
     "text": []
    },
    {
     "name": "stdout",
     "output_type": "stream",
     "text": [
      "Test set: Average loss: -0.0259, Accuracy: 8113/10000 (81.13%)\n",
      "Fitting Laplace\n",
      "Optimizing prior precision\n",
      "Optimized prior precision is tensor([92.5668]).\n"
     ]
    },
    {
     "name": "stderr",
     "output_type": "stream",
     "text": [
      "Training Set Size:  66%|██████▌   | 66/100 [11:26<14:59, 26.45s/it]"
     ]
    },
    {
     "name": "stdout",
     "output_type": "stream",
     "text": [
      "Dataset indices:  [18514 32992]\n",
      "Scores:  [0.09316647052764893, 0.08330735564231873]\n",
      "Labels:  tensor([2, 5])\n"
     ]
    },
    {
     "name": "stderr",
     "output_type": "stream",
     "text": []
    },
    {
     "name": "stdout",
     "output_type": "stream",
     "text": [
      "Test set: Average loss: -0.0242, Accuracy: 8228/10000 (82.28%)\n",
      "Fitting Laplace\n",
      "Optimizing prior precision\n",
      "Optimized prior precision is tensor([82.4999]).\n"
     ]
    },
    {
     "name": "stderr",
     "output_type": "stream",
     "text": [
      "Training Set Size:  68%|██████▊   | 68/100 [12:21<14:15, 26.74s/it]"
     ]
    },
    {
     "name": "stdout",
     "output_type": "stream",
     "text": [
      "Dataset indices:  [5630 2904]\n",
      "Scores:  [0.06298166513442993, 0.062053680419921875]\n",
      "Labels:  tensor([1, 0])\n"
     ]
    },
    {
     "name": "stderr",
     "output_type": "stream",
     "text": []
    },
    {
     "name": "stdout",
     "output_type": "stream",
     "text": [
      "Test set: Average loss: -0.0236, Accuracy: 8103/10000 (81.03%)\n",
      "Fitting Laplace\n",
      "Optimizing prior precision\n",
      "Optimized prior precision is tensor([82.1576]).\n"
     ]
    },
    {
     "name": "stderr",
     "output_type": "stream",
     "text": [
      "Training Set Size:  70%|███████   | 70/100 [13:15<13:23, 26.79s/it]"
     ]
    },
    {
     "name": "stdout",
     "output_type": "stream",
     "text": [
      "Dataset indices:  [52668 32445]\n",
      "Scores:  [0.07744544744491577, 0.07366704940795898]\n",
      "Labels:  tensor([1, 5])\n"
     ]
    },
    {
     "name": "stderr",
     "output_type": "stream",
     "text": []
    },
    {
     "name": "stdout",
     "output_type": "stream",
     "text": [
      "Test set: Average loss: -0.0224, Accuracy: 8079/10000 (80.79%)\n",
      "Fitting Laplace\n",
      "Optimizing prior precision\n",
      "Optimized prior precision is tensor([91.3815]).\n"
     ]
    },
    {
     "name": "stderr",
     "output_type": "stream",
     "text": [
      "Training Set Size:  72%|███████▏  | 72/100 [14:08<12:28, 26.74s/it]"
     ]
    },
    {
     "name": "stdout",
     "output_type": "stream",
     "text": [
      "Dataset indices:  [55319 19648]\n",
      "Scores:  [0.07610398530960083, 0.07427072525024414]\n",
      "Labels:  tensor([2, 7])\n"
     ]
    },
    {
     "name": "stderr",
     "output_type": "stream",
     "text": []
    },
    {
     "name": "stdout",
     "output_type": "stream",
     "text": [
      "Test set: Average loss: -0.0287, Accuracy: 8227/10000 (82.27%)\n",
      "Fitting Laplace\n",
      "Optimizing prior precision\n",
      "Optimized prior precision is tensor([96.9526]).\n"
     ]
    },
    {
     "name": "stderr",
     "output_type": "stream",
     "text": [
      "Training Set Size:  74%|███████▍  | 74/100 [15:02<11:36, 26.78s/it]"
     ]
    },
    {
     "name": "stdout",
     "output_type": "stream",
     "text": [
      "Dataset indices:  [46633 34838]\n",
      "Scores:  [0.07459098100662231, 0.0667375922203064]\n",
      "Labels:  tensor([8, 9])\n"
     ]
    },
    {
     "name": "stderr",
     "output_type": "stream",
     "text": []
    },
    {
     "name": "stdout",
     "output_type": "stream",
     "text": [
      "Test set: Average loss: -0.0357, Accuracy: 8324/10000 (83.24%)\n",
      "Fitting Laplace\n",
      "Optimizing prior precision\n",
      "Optimized prior precision is tensor([97.5420]).\n"
     ]
    },
    {
     "name": "stderr",
     "output_type": "stream",
     "text": [
      "Training Set Size:  76%|███████▌  | 76/100 [15:55<10:40, 26.70s/it]"
     ]
    },
    {
     "name": "stdout",
     "output_type": "stream",
     "text": [
      "Dataset indices:  [19886 26580]\n",
      "Scores:  [0.08198148012161255, 0.07588827610015869]\n",
      "Labels:  tensor([2, 8])\n"
     ]
    },
    {
     "name": "stderr",
     "output_type": "stream",
     "text": []
    },
    {
     "name": "stdout",
     "output_type": "stream",
     "text": [
      "Test set: Average loss: -0.0252, Accuracy: 8299/10000 (82.99%)\n",
      "Fitting Laplace\n",
      "Optimizing prior precision\n",
      "Optimized prior precision is tensor([96.3173]).\n"
     ]
    },
    {
     "name": "stderr",
     "output_type": "stream",
     "text": [
      "Training Set Size:  78%|███████▊  | 78/100 [16:48<09:47, 26.70s/it]"
     ]
    },
    {
     "name": "stdout",
     "output_type": "stream",
     "text": [
      "Dataset indices:  [ 7517 32314]\n",
      "Scores:  [0.06939858198165894, 0.06676572561264038]\n",
      "Labels:  tensor([4, 3])\n"
     ]
    },
    {
     "name": "stderr",
     "output_type": "stream",
     "text": []
    },
    {
     "name": "stdout",
     "output_type": "stream",
     "text": [
      "Test set: Average loss: -0.0181, Accuracy: 8315/10000 (83.15%)\n",
      "Fitting Laplace\n",
      "Optimizing prior precision\n",
      "Optimized prior precision is tensor([76.9916]).\n"
     ]
    },
    {
     "name": "stderr",
     "output_type": "stream",
     "text": [
      "Training Set Size:  80%|████████  | 80/100 [17:41<08:53, 26.68s/it]"
     ]
    },
    {
     "name": "stdout",
     "output_type": "stream",
     "text": [
      "Dataset indices:  [2800 7383]\n",
      "Scores:  [0.08853113651275635, 0.07482242584228516]\n",
      "Labels:  tensor([4, 3])\n"
     ]
    },
    {
     "name": "stderr",
     "output_type": "stream",
     "text": []
    },
    {
     "name": "stdout",
     "output_type": "stream",
     "text": [
      "Test set: Average loss: -0.0331, Accuracy: 8631/10000 (86.31%)\n",
      "Fitting Laplace\n",
      "Optimizing prior precision\n",
      "Optimized prior precision is tensor([93.7619]).\n"
     ]
    },
    {
     "name": "stderr",
     "output_type": "stream",
     "text": [
      "Training Set Size:  82%|████████▏ | 82/100 [18:35<08:01, 26.73s/it]"
     ]
    },
    {
     "name": "stdout",
     "output_type": "stream",
     "text": [
      "Dataset indices:  [31169 52129]\n",
      "Scores:  [0.07414960861206055, 0.07156920433044434]\n",
      "Labels:  tensor([1, 3])\n"
     ]
    },
    {
     "name": "stderr",
     "output_type": "stream",
     "text": []
    },
    {
     "name": "stdout",
     "output_type": "stream",
     "text": [
      "Test set: Average loss: -0.0275, Accuracy: 8423/10000 (84.23%)\n",
      "Fitting Laplace\n",
      "Optimizing prior precision\n",
      "Optimized prior precision is tensor([82.4826]).\n"
     ]
    },
    {
     "name": "stderr",
     "output_type": "stream",
     "text": [
      "Training Set Size:  84%|████████▍ | 84/100 [19:29<07:09, 26.87s/it]"
     ]
    },
    {
     "name": "stdout",
     "output_type": "stream",
     "text": [
      "Dataset indices:  [27806 39620]\n",
      "Scores:  [0.07250839471817017, 0.06301331520080566]\n",
      "Labels:  tensor([0, 0])\n"
     ]
    },
    {
     "name": "stderr",
     "output_type": "stream",
     "text": []
    },
    {
     "name": "stdout",
     "output_type": "stream",
     "text": [
      "Test set: Average loss: -0.0287, Accuracy: 8482/10000 (84.82%)\n",
      "Fitting Laplace\n",
      "Optimizing prior precision\n",
      "Optimized prior precision is tensor([98.3950]).\n"
     ]
    },
    {
     "name": "stderr",
     "output_type": "stream",
     "text": [
      "Training Set Size:  86%|████████▌ | 86/100 [20:23<06:15, 26.84s/it]"
     ]
    },
    {
     "name": "stdout",
     "output_type": "stream",
     "text": [
      "Dataset indices:  [57434  9514]\n",
      "Scores:  [0.06376731395721436, 0.05611097812652588]\n",
      "Labels:  tensor([8, 5])\n"
     ]
    },
    {
     "name": "stderr",
     "output_type": "stream",
     "text": []
    },
    {
     "name": "stdout",
     "output_type": "stream",
     "text": [
      "Test set: Average loss: -0.0258, Accuracy: 8616/10000 (86.16%)\n",
      "Fitting Laplace\n",
      "Optimizing prior precision\n",
      "Optimized prior precision is tensor([92.8480]).\n"
     ]
    },
    {
     "name": "stderr",
     "output_type": "stream",
     "text": [
      "Training Set Size:  88%|████████▊ | 88/100 [21:17<05:22, 26.85s/it]"
     ]
    },
    {
     "name": "stdout",
     "output_type": "stream",
     "text": [
      "Dataset indices:  [52761 17740]\n",
      "Scores:  [0.07535958290100098, 0.06666791439056396]\n",
      "Labels:  tensor([9, 4])\n"
     ]
    },
    {
     "name": "stderr",
     "output_type": "stream",
     "text": []
    },
    {
     "name": "stdout",
     "output_type": "stream",
     "text": [
      "Test set: Average loss: -0.0281, Accuracy: 8731/10000 (87.31%)\n",
      "Fitting Laplace\n",
      "Optimizing prior precision\n",
      "Optimized prior precision is tensor([104.7367]).\n"
     ]
    },
    {
     "name": "stderr",
     "output_type": "stream",
     "text": [
      "Training Set Size:  90%|█████████ | 90/100 [22:11<04:28, 26.90s/it]"
     ]
    },
    {
     "name": "stdout",
     "output_type": "stream",
     "text": [
      "Dataset indices:  [30324 14341]\n",
      "Scores:  [0.06251204013824463, 0.05874216556549072]\n",
      "Labels:  tensor([8, 9])\n"
     ]
    },
    {
     "name": "stderr",
     "output_type": "stream",
     "text": []
    },
    {
     "name": "stdout",
     "output_type": "stream",
     "text": [
      "Test set: Average loss: -0.0275, Accuracy: 8715/10000 (87.15%)\n",
      "Fitting Laplace\n",
      "Optimizing prior precision\n",
      "Optimized prior precision is tensor([97.6762]).\n"
     ]
    },
    {
     "name": "stderr",
     "output_type": "stream",
     "text": [
      "Training Set Size:  92%|█████████▏| 92/100 [23:04<03:34, 26.80s/it]"
     ]
    },
    {
     "name": "stdout",
     "output_type": "stream",
     "text": [
      "Dataset indices:  [15730 28517]\n",
      "Scores:  [0.06589996814727783, 0.050775766372680664]\n",
      "Labels:  tensor([1, 4])\n"
     ]
    },
    {
     "name": "stderr",
     "output_type": "stream",
     "text": []
    },
    {
     "name": "stdout",
     "output_type": "stream",
     "text": [
      "Test set: Average loss: -0.0258, Accuracy: 8767/10000 (87.67%)\n",
      "Fitting Laplace\n",
      "Optimizing prior precision\n",
      "Optimized prior precision is tensor([84.4913]).\n"
     ]
    },
    {
     "name": "stderr",
     "output_type": "stream",
     "text": [
      "Training Set Size:  94%|█████████▍| 94/100 [23:57<02:40, 26.73s/it]"
     ]
    },
    {
     "name": "stdout",
     "output_type": "stream",
     "text": [
      "Dataset indices:  [ 3393 19294]\n",
      "Scores:  [0.05799508094787598, 0.05444204807281494]\n",
      "Labels:  tensor([1, 4])\n"
     ]
    },
    {
     "name": "stderr",
     "output_type": "stream",
     "text": []
    },
    {
     "name": "stdout",
     "output_type": "stream",
     "text": [
      "Test set: Average loss: -0.0265, Accuracy: 8797/10000 (87.97%)\n",
      "Fitting Laplace\n",
      "Optimizing prior precision\n",
      "Optimized prior precision is tensor([78.4836]).\n"
     ]
    },
    {
     "name": "stderr",
     "output_type": "stream",
     "text": [
      "Training Set Size:  96%|█████████▌| 96/100 [24:51<01:46, 26.74s/it]"
     ]
    },
    {
     "name": "stdout",
     "output_type": "stream",
     "text": [
      "Dataset indices:  [46327 22830]\n",
      "Scores:  [0.05455946922302246, 0.050382018089294434]\n",
      "Labels:  tensor([7, 6])\n"
     ]
    },
    {
     "name": "stderr",
     "output_type": "stream",
     "text": []
    },
    {
     "name": "stdout",
     "output_type": "stream",
     "text": [
      "Test set: Average loss: -0.0290, Accuracy: 8747/10000 (87.47%)\n",
      "Fitting Laplace\n",
      "Optimizing prior precision\n",
      "Optimized prior precision is tensor([86.6339]).\n"
     ]
    },
    {
     "name": "stderr",
     "output_type": "stream",
     "text": [
      "Training Set Size:  98%|█████████▊| 98/100 [25:44<00:53, 26.74s/it]"
     ]
    },
    {
     "name": "stdout",
     "output_type": "stream",
     "text": [
      "Dataset indices:  [19173 54394]\n",
      "Scores:  [0.05072808265686035, 0.04883074760437012]\n",
      "Labels:  tensor([5, 8])\n"
     ]
    },
    {
     "name": "stderr",
     "output_type": "stream",
     "text": []
    },
    {
     "name": "stdout",
     "output_type": "stream",
     "text": [
      "Test set: Average loss: -0.0271, Accuracy: 8664/10000 (86.64%)\n",
      "Fitting Laplace\n",
      "Optimizing prior precision\n",
      "Optimized prior precision is tensor([80.1034]).\n"
     ]
    },
    {
     "name": "stderr",
     "output_type": "stream",
     "text": [
      "Training Set Size: 100%|██████████| 100/100 [26:38<00:00, 26.80s/it]"
     ]
    },
    {
     "name": "stdout",
     "output_type": "stream",
     "text": [
      "Dataset indices:  [45940 18938]\n",
      "Scores:  [0.040011048316955566, 0.03961837291717529]\n",
      "Labels:  tensor([3, 5])\n"
     ]
    },
    {
     "name": "stderr",
     "output_type": "stream",
     "text": []
    },
    {
     "name": "stdout",
     "output_type": "stream",
     "text": [
      "Test set: Average loss: -0.0295, Accuracy: 8835/10000 (88.35%)\n"
     ]
    }
   ],
   "source": [
    "# Run experiment\n",
    "test_accs = []\n",
    "test_loss = []\n",
    "added_indices = []\n",
    "added_labels = []\n",
    "\n",
    "pbar = tqdm(initial=len(active_learning_data.training_dataset), total=max_training_samples, desc=\"Training Set Size\")\n",
    "loss_fn = nn.NLLLoss()\n",
    "\n",
    "while True:\n",
    "    model = ConvNet().to(device=device)\n",
    "    optimizer = torch.optim.Adam(model.parameters())\n",
    "\n",
    "    model.train()\n",
    "\n",
    "    # Train\n",
    "    for data, target in tqdm(train_loader_nn, desc=\"Training\", leave=False):\n",
    "        data = data.to(device=device)\n",
    "        target = target.to(device=device)\n",
    "\n",
    "        optimizer.zero_grad()\n",
    "\n",
    "        prediction = F.log_softmax(model(data).squeeze(1), dim=1)\n",
    "        loss = loss_fn(prediction, target)\n",
    "\n",
    "        loss.backward()\n",
    "        optimizer.step()\n",
    "\n",
    "    # Test\n",
    "    loss = 0\n",
    "    correct = 0\n",
    "    with torch.no_grad():\n",
    "        for data, target in tqdm(test_loader, desc=\"Testing\", leave=False):\n",
    "            data = data.to(device=device)\n",
    "            target = target.to(device=device)\n",
    "\n",
    "            prediction = model(data).squeeze(1)\n",
    "            loss += loss_fn(prediction, target)\n",
    "\n",
    "            prediction = prediction.argmax(dim=1)\n",
    "            correct += prediction.eq(target.view_as(prediction)).sum().item()\n",
    "\n",
    "    loss /= len(test_loader.dataset)\n",
    "    test_loss.append(loss)\n",
    "\n",
    "    percentage_correct = 100.0 * correct / len(test_loader.dataset)\n",
    "    test_accs.append(percentage_correct)\n",
    "\n",
    "    print(\n",
    "        \"Test set: Average loss: {:.4f}, Accuracy: {}/{} ({:.2f}%)\".format(\n",
    "            loss, correct, len(test_loader.dataset), percentage_correct\n",
    "        )\n",
    "    )\n",
    "\n",
    "    if len(active_learning_data.training_dataset) >= max_training_samples:\n",
    "        break\n",
    "\n",
    "    # Acquire new batch from pool samples using entropy acquisition function\n",
    "    N = len(active_learning_data.pool_dataset)\n",
    "    \n",
    "    la = laplace.Laplace(\n",
    "                        model,\n",
    "                        likelihood=\"classification\",\n",
    "                        subset_of_weights=subset_of_weights,\n",
    "                        hessian_structure=hessian_structure,\n",
    "                        backend=backend,\n",
    "                        temperature=temperature/len(active_learning_data.training_dataset),\n",
    "                     )\n",
    "    \n",
    "    print('Fitting Laplace')\n",
    "    la.fit(train_loader_la, progress_bar=True)\n",
    "\n",
    "    print('Optimizing prior precision')\n",
    "    la.optimize_prior_precision(method='marglik', verbose=True, pred_type='glm', link_approx='probit')\n",
    "\n",
    "    candidate_batch = get_laplace_batch(model=la, pool_loader=pool_loader,\n",
    "                                            acquisition_batch_size=acquisition_batch_size,\n",
    "                                            device=device, \n",
    "                                            method=al_method)\n",
    "\n",
    "\n",
    "    targets = repeated_mnist.get_targets(active_learning_data.pool_dataset)\n",
    "    dataset_indices = active_learning_data.get_dataset_indices(candidate_batch.indices)\n",
    "\n",
    "    print(\"Dataset indices: \", dataset_indices)\n",
    "    print(\"Scores: \", candidate_batch.scores)\n",
    "    print(\"Labels: \", targets[candidate_batch.indices])\n",
    "\n",
    "    active_learning_data.acquire(candidate_batch.indices)\n",
    "    added_indices.append(dataset_indices)\n",
    "    added_labels.append(targets[candidate_batch.indices])\n",
    "    pbar.update(len(dataset_indices))"
   ]
  },
  {
   "cell_type": "markdown",
   "metadata": {},
   "source": [
    "## Storing results"
   ]
  },
  {
   "cell_type": "code",
   "execution_count": 4,
   "metadata": {},
   "outputs": [],
   "source": [
    "experiment_id = np.random.randint(1000, 9999)\n"
   ]
  },
  {
   "cell_type": "code",
   "execution_count": 5,
   "metadata": {},
   "outputs": [],
   "source": [
    "params_dict = {\n",
    "    'num_initial_samples': num_initial_samples,\n",
    "    'num_classes': num_classes,\n",
    "    'max_training_samples': max_training_samples,\n",
    "    'acquisition_batch_size': acquisition_batch_size,\n",
    "    'test_batch_size': test_batch_size,\n",
    "    'batch_size': batch_size,\n",
    "    'scoring_batch_size': scoring_batch_size,\n",
    "    'training_iterations_nn': training_iterations_nn,\n",
    "    'training_iterations_la': training_iterations_la,\n",
    "}\n",
    "\n",
    "# generate a unique experiment id of 3 digits (just to make sure don't override things, clean up later)\n",
    "save_experiment(f'{al_method}_{hessian_structure}_{subset_of_weights}_K{acquisition_batch_size}_{experiment_id}',\n",
    "                params_dict, {\n",
    "    'test_accs': test_accs,\n",
    "    'test_loss': test_loss,\n",
    "    'added_indices': added_indices\n",
    "})"
   ]
  },
  {
   "cell_type": "code",
   "execution_count": 6,
   "metadata": {},
   "outputs": [
    {
     "data": {
      "image/png": "[encoded data removed]",
      "text/plain": [
       "<Figure size 640x480 with 1 Axes>"
      ]
     },
     "metadata": {},
     "output_type": "display_data"
    }
   ],
   "source": [
    "plt.plot(np.arange(start=num_initial_samples, stop=max_training_samples + acquisition_batch_size, step=acquisition_batch_size), test_accs)\n",
    "plt.xlabel(\"Training Set Size\")\n",
    "plt.ylabel(\"Test Accuracy\")\n",
    "plt.hlines(90, num_initial_samples, max_training_samples, colors='r', linestyles='dashed')\n",
    "plt.savefig(f'plots/{al_method}_{hessian_structure}_{subset_of_weights}_K{acquisition_batch_size}_{experiment_id}.png')\n",
    "plt.show()\n"
   ]
  }
 ],
 "metadata": {
  "kernelspec": {
   "display_name": "Python 3",
   "language": "python",
   "name": "python3"
  },
  "language_info": {
   "codemirror_mode": {
    "name": "ipython",
    "version": 3
   },
   "file_extension": ".py",
   "mimetype": "text/x-python",
   "name": "python",
   "nbconvert_exporter": "python",
   "pygments_lexer": "ipython3",
   "version": "3.12.1"
  }
 },
 "nbformat": 4,
 "nbformat_minor": 2
}
