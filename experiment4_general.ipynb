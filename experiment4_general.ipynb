{
 "cells": [
  {
   "cell_type": "markdown",
   "metadata": {},
   "source": [
    "# General Experiment.\n",
    "Modular setup of the AL experiments"
   ]
  },
  {
   "cell_type": "markdown",
   "metadata": {},
   "source": [
    "## libraries"
   ]
  },
  {
   "cell_type": "code",
   "execution_count": 1,
   "metadata": {},
   "outputs": [
    {
     "name": "stderr",
     "output_type": "stream",
     "text": [
      "c:\\Users\\vince\\Documents\\Statistics\\TT\\msc_thesis\\.venv\\Lib\\site-packages\\tqdm\\auto.py:21: TqdmWarning: IProgress not found. Please update jupyter and ipywidgets. See https://ipywidgets.readthedocs.io/en/stable/user_install.html\n",
      "  from .autonotebook import tqdm as notebook_tqdm\n"
     ]
    }
   ],
   "source": [
    "import torch\n",
    "import torch.nn as nn\n",
    "import torch.nn.functional as F\n",
    "import math\n",
    "import numpy as np\n",
    "import laplace\n",
    "import matplotlib.pyplot as plt\n",
    "from tqdm.auto import tqdm\n",
    "from batchbald_redux import repeated_mnist, active_learning, batchbald\n",
    "from main.models import BayesianConvNet, ConvNet\n",
    "from main.utils import save_experiment, load_experiment\n",
    "from laplace.curvature import BackPackGGN, CurvlinopsGGN, AsdfghjklEF\n",
    "from main.laplace_batch import get_laplace_batch\n",
    "\n",
    "\n",
    "%reload_ext autoreload\n",
    "%autoreload 2"
   ]
  },
  {
   "cell_type": "markdown",
   "metadata": {},
   "source": [
    "## Data and experiment parameters"
   ]
  },
  {
   "cell_type": "code",
   "execution_count": 7,
   "metadata": {},
   "outputs": [
    {
     "name": "stdout",
     "output_type": "stream",
     "text": [
      "use_cuda: False\n"
     ]
    },
    {
     "name": "stderr",
     "output_type": "stream",
     "text": [
      "c:\\Users\\vince\\Documents\\Statistics\\TT\\msc_thesis\\.venv\\Lib\\site-packages\\torch\\utils\\data\\sampler.py:64: UserWarning: `data_source` argument is not used and will be removed in 2.2.0.You may still have custom implementation that utilizes it.\n",
      "  warnings.warn(\"`data_source` argument is not used and will be removed in 2.2.0.\"\n"
     ]
    }
   ],
   "source": [
    "# loading data\n",
    "train_dataset, test_dataset = repeated_mnist.create_MNIST_dataset()\n",
    "\n",
    "# number of initial samples \n",
    "num_initial_samples = 40\n",
    "num_classes = 10\n",
    "\n",
    "# get indices of initial samples\n",
    "initial_samples = active_learning.get_balanced_sample_indices(\n",
    "    repeated_mnist.get_targets(train_dataset), num_classes=num_classes, n_per_digit=num_initial_samples / num_classes\n",
    ")\n",
    "\n",
    "# Experiment parameters\n",
    "\n",
    "## Active learning parameters\n",
    "max_training_samples = 100  # Maximum number of samples to acquire from the pool dataset \n",
    "acquisition_batch_size = 5  # Number of samples to acquire in each acquisition step\n",
    "\n",
    "## Training parameters\n",
    "test_batch_size = 512  # Batch size for testing\n",
    "batch_size = 64  # Batch size for training\n",
    "scoring_batch_size = 64  # Batch size for scoring \n",
    "training_iterations_nn = 4096 * 6  # Number of training iterations (batches) to run\n",
    "training_iterations_la = 2**10  # Number of training iterations (batches) to run\n",
    "\n",
    "## Model parameters\n",
    "hessian_structure = \"kron\"  # Options: \"full\", \"kron\", \"lowrank\" and \"diag\"\n",
    "subset_of_weights = \"last_layer\"  # Options: \"all\", \"subnetwork\" and \"last_layer\"\n",
    "backend = AsdfghjklEF  # Options: CurvlinopsGGN, CurvlinopsEF, AsdfgjklEF, AsdfghjklGGN, BackPackGGN\n",
    "al_method = 'probit_entropy'  # logit_entropy or probit_entropy\n",
    "\n",
    "kwargs = {\"num_workers\": 1, \"pin_memory\": True}\n",
    "\n",
    "use_cuda = torch.cuda.is_available()\n",
    "device = \"cuda\" if use_cuda else \"cpu\"\n",
    "\n",
    "print(f\"use_cuda: {use_cuda}\")\n",
    "\n",
    "test_loader = torch.utils.data.DataLoader(test_dataset, batch_size=test_batch_size, shuffle=False, **kwargs)\n",
    "\n",
    "active_learning_data = active_learning.ActiveLearningData(train_dataset)\n",
    "\n",
    "# Split off the initial samples first.\n",
    "active_learning_data.acquire(initial_samples)\n",
    "\n",
    "# THIS REMOVES MOST OF THE POOL DATA. UNCOMMENT THIS TO TAKE ALL UNLABELLED DATA INTO ACCOUNT!\n",
    "active_learning_data.extract_dataset_from_pool(55000)\n",
    "\n",
    "train_loader_nn = torch.utils.data.DataLoader(\n",
    "    active_learning_data.training_dataset,\n",
    "    sampler=active_learning.RandomFixedLengthSampler(active_learning_data.training_dataset, training_iterations_nn),\n",
    "    batch_size=batch_size,\n",
    "    **kwargs,\n",
    ")\n",
    "\n",
    "train_loader_la = torch.utils.data.DataLoader(\n",
    "    active_learning_data.training_dataset,\n",
    "    sampler=active_learning.RandomFixedLengthSampler(active_learning_data.training_dataset, training_iterations_nn),\n",
    "    batch_size=batch_size,\n",
    "    **kwargs,\n",
    ")\n",
    "\n",
    "pool_loader = torch.utils.data.DataLoader(\n",
    "    active_learning_data.pool_dataset, batch_size=scoring_batch_size, shuffle=False, **kwargs\n",
    ")"
   ]
  },
  {
   "cell_type": "markdown",
   "metadata": {},
   "source": [
    "## Running Experiment"
   ]
  },
  {
   "cell_type": "code",
   "execution_count": 3,
   "metadata": {},
   "outputs": [
    {
     "name": "stderr",
     "output_type": "stream",
     "text": [
      "Training Set Size:  40%|████      | 40/100 [00:00<?, ?it/s]"
     ]
    },
    {
     "name": "stdout",
     "output_type": "stream",
     "text": [
      "Test set: Average loss: -0.0278, Accuracy: 7457/10000 (74.57%)\n",
      "Fitting Laplace\n"
     ]
    },
    {
     "name": "stderr",
     "output_type": "stream",
     "text": [
      "c:\\Users\\vince\\Documents\\Statistics\\TT\\msc_thesis\\.venv\\Lib\\site-packages\\laplace\\baselaplace.py:409: UserWarning: By default `link_approx` is `probit`. Make sure to set it equals to the way you want to call `la(test_data, pred_type=..., link_approx=...)`.\n",
      "  warnings.warn(\n"
     ]
    },
    {
     "name": "stdout",
     "output_type": "stream",
     "text": [
      "Optimizing prior precision\n",
      "Optimized prior precision is tensor([7.5089]).\n"
     ]
    },
    {
     "name": "stderr",
     "output_type": "stream",
     "text": [
      "Training Set Size:  45%|████▌     | 45/100 [01:02<11:31, 12.56s/it]"
     ]
    },
    {
     "name": "stdout",
     "output_type": "stream",
     "text": [
      "Dataset indices:  [30286  4946  8698 39294  7705]\n",
      "Scores:  [1.7988738970631246e-11, 1.7331892865346532e-11, 1.6345652262272914e-11, 1.617200817705111e-11, 1.589125879497555e-11]\n",
      "Labels:  tensor([7, 7, 7, 7, 4])\n"
     ]
    },
    {
     "name": "stderr",
     "output_type": "stream",
     "text": []
    },
    {
     "name": "stdout",
     "output_type": "stream",
     "text": [
      "Test set: Average loss: -0.0190, Accuracy: 7608/10000 (76.08%)\n",
      "Fitting Laplace\n",
      "Optimizing prior precision\n",
      "Optimized prior precision is tensor([6.6251]).\n"
     ]
    },
    {
     "name": "stderr",
     "output_type": "stream",
     "text": [
      "Training Set Size:  50%|█████     | 50/100 [02:03<10:18, 12.37s/it]"
     ]
    },
    {
     "name": "stdout",
     "output_type": "stream",
     "text": [
      "Dataset indices:  [33698    29 49531 40561 24557]\n",
      "Scores:  [9.930556377213406e-12, 9.689525223843809e-12, 9.553628721459262e-12, 8.961112234195934e-12, 7.444510286003236e-12]\n",
      "Labels:  tensor([2, 7, 7, 1, 2])\n"
     ]
    },
    {
     "name": "stderr",
     "output_type": "stream",
     "text": []
    },
    {
     "name": "stdout",
     "output_type": "stream",
     "text": [
      "Test set: Average loss: -0.0118, Accuracy: 7893/10000 (78.93%)\n",
      "Fitting Laplace\n",
      "Optimizing prior precision\n",
      "Optimized prior precision is tensor([9.3792]).\n"
     ]
    },
    {
     "name": "stderr",
     "output_type": "stream",
     "text": [
      "Training Set Size:  55%|█████▌    | 55/100 [03:11<09:40, 12.89s/it]"
     ]
    },
    {
     "name": "stdout",
     "output_type": "stream",
     "text": [
      "Dataset indices:  [10460 18327 46778  8890 29788]\n",
      "Scores:  [3.489885897628442e-12, 3.2323397430866763e-12, 3.1359530857505424e-12, 2.9066571198554936e-12, 2.8922079575027793e-12]\n",
      "Labels:  tensor([4, 4, 9, 4, 4])\n"
     ]
    },
    {
     "name": "stderr",
     "output_type": "stream",
     "text": []
    },
    {
     "name": "stdout",
     "output_type": "stream",
     "text": [
      "Test set: Average loss: -0.0191, Accuracy: 7682/10000 (76.82%)\n",
      "Fitting Laplace\n",
      "Optimizing prior precision\n",
      "Optimized prior precision is tensor([8.6243]).\n"
     ]
    },
    {
     "name": "stderr",
     "output_type": "stream",
     "text": [
      "Training Set Size:  60%|██████    | 60/100 [04:20<08:48, 13.21s/it]"
     ]
    },
    {
     "name": "stdout",
     "output_type": "stream",
     "text": [
      "Dataset indices:  [ 3432 35750 38510 56717 39441]\n",
      "Scores:  [4.951821938603551e-12, 4.6438551788707816e-12, 4.016518454635909e-12, 3.987367293983857e-12, 3.830556531692064e-12]\n",
      "Labels:  tensor([8, 6, 8, 1, 1])\n"
     ]
    },
    {
     "name": "stderr",
     "output_type": "stream",
     "text": []
    },
    {
     "name": "stdout",
     "output_type": "stream",
     "text": [
      "Test set: Average loss: -0.0192, Accuracy: 7725/10000 (77.25%)\n",
      "Fitting Laplace\n",
      "Optimizing prior precision\n",
      "Optimized prior precision is tensor([11.1427]).\n"
     ]
    },
    {
     "name": "stderr",
     "output_type": "stream",
     "text": [
      "Training Set Size:  65%|██████▌   | 65/100 [05:25<07:40, 13.17s/it]"
     ]
    },
    {
     "name": "stdout",
     "output_type": "stream",
     "text": [
      "Dataset indices:  [34866 47021   552 34402 49482]\n",
      "Scores:  [1.8628403940929017e-12, 1.0606046206215747e-12, 8.904085151487107e-13, 8.615184845899015e-13, 8.613414885852433e-13]\n",
      "Labels:  tensor([3, 5, 1, 1, 1])\n"
     ]
    },
    {
     "name": "stderr",
     "output_type": "stream",
     "text": []
    },
    {
     "name": "stdout",
     "output_type": "stream",
     "text": [
      "Test set: Average loss: -0.0217, Accuracy: 7711/10000 (77.11%)\n",
      "Fitting Laplace\n",
      "Optimizing prior precision\n",
      "Optimized prior precision is tensor([12.9672]).\n"
     ]
    },
    {
     "name": "stderr",
     "output_type": "stream",
     "text": [
      "Training Set Size:  70%|███████   | 70/100 [06:30<06:34, 13.14s/it]"
     ]
    },
    {
     "name": "stdout",
     "output_type": "stream",
     "text": [
      "Dataset indices:  [57040 20352 20930 14751  3154]\n",
      "Scores:  [4.987916546808635e-13, 4.0096146346722816e-13, 3.938264373903183e-13, 2.6128865781085975e-13, 2.3994117782054347e-13]\n",
      "Labels:  tensor([3, 8, 2, 8, 8])\n"
     ]
    },
    {
     "name": "stderr",
     "output_type": "stream",
     "text": []
    },
    {
     "name": "stdout",
     "output_type": "stream",
     "text": [
      "Test set: Average loss: -0.0235, Accuracy: 8158/10000 (81.58%)\n",
      "Fitting Laplace\n",
      "Optimizing prior precision\n",
      "Optimized prior precision is tensor([13.8862]).\n"
     ]
    },
    {
     "name": "stderr",
     "output_type": "stream",
     "text": [
      "Training Set Size:  75%|███████▌  | 75/100 [07:37<05:29, 13.19s/it]"
     ]
    },
    {
     "name": "stdout",
     "output_type": "stream",
     "text": [
      "Dataset indices:  [28341 17741  1512 36429 56590]\n",
      "Scores:  [5.739016168760172e-14, 4.61602937405943e-14, 3.8424511239910225e-14, 3.6182299832047266e-14, 3.4980078864954925e-14]\n",
      "Labels:  tensor([8, 0, 0, 8, 2])\n"
     ]
    },
    {
     "name": "stderr",
     "output_type": "stream",
     "text": []
    },
    {
     "name": "stdout",
     "output_type": "stream",
     "text": [
      "Test set: Average loss: -0.0232, Accuracy: 8170/10000 (81.70%)\n",
      "Fitting Laplace\n",
      "Optimizing prior precision\n",
      "Optimized prior precision is tensor([12.0130]).\n"
     ]
    },
    {
     "name": "stderr",
     "output_type": "stream",
     "text": [
      "Training Set Size:  80%|████████  | 80/100 [08:45<04:26, 13.33s/it]"
     ]
    },
    {
     "name": "stdout",
     "output_type": "stream",
     "text": [
      "Dataset indices:  [20363 20771 22604 48475 50981]\n",
      "Scores:  [2.4905500838751093e-13, 1.6315964692596024e-13, 9.226857288196361e-14, 7.98774024354798e-14, 7.95632955135836e-14]\n",
      "Labels:  tensor([8, 8, 8, 8, 4])\n"
     ]
    },
    {
     "name": "stderr",
     "output_type": "stream",
     "text": []
    },
    {
     "name": "stdout",
     "output_type": "stream",
     "text": [
      "Test set: Average loss: -0.0226, Accuracy: 8213/10000 (82.13%)\n",
      "Fitting Laplace\n",
      "Optimizing prior precision\n",
      "Optimized prior precision is tensor([15.5738]).\n"
     ]
    },
    {
     "name": "stderr",
     "output_type": "stream",
     "text": [
      "Training Set Size:  85%|████████▌ | 85/100 [09:54<03:22, 13.49s/it]"
     ]
    },
    {
     "name": "stdout",
     "output_type": "stream",
     "text": [
      "Dataset indices:  [14881 20165 21134 29786 13054]\n",
      "Scores:  [2.924591314566391e-14, 3.76069160757048e-15, 3.233328471093479e-15, 2.4065171649054543e-15, 2.0973060934443774e-15]\n",
      "Labels:  tensor([2, 2, 4, 7, 0])\n"
     ]
    },
    {
     "name": "stderr",
     "output_type": "stream",
     "text": []
    },
    {
     "name": "stdout",
     "output_type": "stream",
     "text": [
      "Test set: Average loss: -0.0301, Accuracy: 8230/10000 (82.30%)\n",
      "Fitting Laplace\n",
      "Optimizing prior precision\n",
      "Optimized prior precision is tensor([13.2488]).\n"
     ]
    },
    {
     "name": "stderr",
     "output_type": "stream",
     "text": [
      "Training Set Size:  90%|█████████ | 90/100 [11:02<02:14, 13.50s/it]"
     ]
    },
    {
     "name": "stdout",
     "output_type": "stream",
     "text": [
      "Dataset indices:  [45576 58456 11784 24849 42121]\n",
      "Scores:  [5.531938974826303e-14, 5.2953023639123326e-14, 4.75547505291319e-14, 3.7393421421349354e-14, 3.446311771658668e-14]\n",
      "Labels:  tensor([8, 5, 6, 2, 5])\n"
     ]
    },
    {
     "name": "stderr",
     "output_type": "stream",
     "text": []
    },
    {
     "name": "stdout",
     "output_type": "stream",
     "text": [
      "Test set: Average loss: -0.0312, Accuracy: 8205/10000 (82.05%)\n",
      "Fitting Laplace\n",
      "Optimizing prior precision\n",
      "Optimized prior precision is tensor([15.3086]).\n"
     ]
    },
    {
     "name": "stderr",
     "output_type": "stream",
     "text": [
      "Training Set Size:  95%|█████████▌| 95/100 [12:10<01:07, 13.55s/it]"
     ]
    },
    {
     "name": "stdout",
     "output_type": "stream",
     "text": [
      "Dataset indices:  [26548 53182  7150 41495 12044]\n",
      "Scores:  [1.3175346772788255e-13, 7.942612360997345e-14, 5.855486587139427e-14, 2.7841906907678966e-14, 2.7552777293331394e-14]\n",
      "Labels:  tensor([3, 3, 3, 8, 3])\n"
     ]
    },
    {
     "name": "stderr",
     "output_type": "stream",
     "text": []
    },
    {
     "name": "stdout",
     "output_type": "stream",
     "text": [
      "Test set: Average loss: -0.0227, Accuracy: 8353/10000 (83.53%)\n",
      "Fitting Laplace\n",
      "Optimizing prior precision\n",
      "Optimized prior precision is tensor([15.2634]).\n"
     ]
    },
    {
     "name": "stderr",
     "output_type": "stream",
     "text": [
      "Training Set Size: 100%|██████████| 100/100 [13:20<00:00, 13.65s/it]"
     ]
    },
    {
     "name": "stdout",
     "output_type": "stream",
     "text": [
      "Dataset indices:  [24751  7621 26575   576 28632]\n",
      "Scores:  [6.058981255222884e-15, 3.661626869224353e-15, 3.562922543397283e-15, 2.864180289493504e-15, 2.5403500646375282e-15]\n",
      "Labels:  tensor([2, 7, 7, 4, 7])\n"
     ]
    },
    {
     "name": "stderr",
     "output_type": "stream",
     "text": []
    },
    {
     "name": "stdout",
     "output_type": "stream",
     "text": [
      "Test set: Average loss: -0.0345, Accuracy: 8399/10000 (83.99%)\n"
     ]
    }
   ],
   "source": [
    "# Run experiment\n",
    "test_accs = []\n",
    "test_loss = []\n",
    "added_indices = []\n",
    "added_labels = []\n",
    "\n",
    "pbar = tqdm(initial=len(active_learning_data.training_dataset), total=max_training_samples, desc=\"Training Set Size\")\n",
    "loss_fn = nn.NLLLoss()\n",
    "\n",
    "while True:\n",
    "    model = ConvNet().to(device=device)\n",
    "    optimizer = torch.optim.Adam(model.parameters())\n",
    "\n",
    "    model.train()\n",
    "\n",
    "    # Train\n",
    "    for data, target in tqdm(train_loader_nn, desc=\"Training\", leave=False):\n",
    "        data = data.to(device=device)\n",
    "        target = target.to(device=device)\n",
    "\n",
    "        optimizer.zero_grad()\n",
    "\n",
    "        prediction = F.log_softmax(model(data).squeeze(1), dim=1)\n",
    "        loss = loss_fn(prediction, target)\n",
    "\n",
    "        loss.backward()\n",
    "        optimizer.step()\n",
    "\n",
    "    # Test\n",
    "    loss = 0\n",
    "    correct = 0\n",
    "    with torch.no_grad():\n",
    "        for data, target in tqdm(test_loader, desc=\"Testing\", leave=False):\n",
    "            data = data.to(device=device)\n",
    "            target = target.to(device=device)\n",
    "\n",
    "            prediction = model(data).squeeze(1)\n",
    "            loss += loss_fn(prediction, target)\n",
    "\n",
    "            prediction = prediction.argmax(dim=1)\n",
    "            correct += prediction.eq(target.view_as(prediction)).sum().item()\n",
    "\n",
    "    loss /= len(test_loader.dataset)\n",
    "    test_loss.append(loss)\n",
    "\n",
    "    percentage_correct = 100.0 * correct / len(test_loader.dataset)\n",
    "    test_accs.append(percentage_correct)\n",
    "\n",
    "    print(\n",
    "        \"Test set: Average loss: {:.4f}, Accuracy: {}/{} ({:.2f}%)\".format(\n",
    "            loss, correct, len(test_loader.dataset), percentage_correct\n",
    "        )\n",
    "    )\n",
    "\n",
    "    if len(active_learning_data.training_dataset) >= max_training_samples:\n",
    "        break\n",
    "\n",
    "    # Acquire new batch from pool samples using entropy acquisition function\n",
    "    N = len(active_learning_data.pool_dataset)\n",
    "    \n",
    "    la = laplace.Laplace(\n",
    "                        model,\n",
    "                        likelihood=\"classification\",\n",
    "                        subset_of_weights=subset_of_weights,\n",
    "                        hessian_structure=hessian_structure,\n",
    "                        backend=backend\n",
    "                     )\n",
    "    \n",
    "    print('Fitting Laplace')\n",
    "    la.fit(train_loader_la, progress_bar=True)\n",
    "\n",
    "    print('Optimizing prior precision')\n",
    "    la.optimize_prior_precision(method='marglik', verbose=True)\n",
    "\n",
    "    candidate_batch = get_laplace_batch(model=la, pool_loader=pool_loader,\n",
    "                                            acquisition_batch_size=acquisition_batch_size,\n",
    "                                            device=device, \n",
    "                                            method=al_method)\n",
    "\n",
    "\n",
    "    targets = repeated_mnist.get_targets(active_learning_data.pool_dataset)\n",
    "    dataset_indices = active_learning_data.get_dataset_indices(candidate_batch.indices)\n",
    "\n",
    "    print(\"Dataset indices: \", dataset_indices)\n",
    "    print(\"Scores: \", candidate_batch.scores)\n",
    "    print(\"Labels: \", targets[candidate_batch.indices])\n",
    "\n",
    "    active_learning_data.acquire(candidate_batch.indices)\n",
    "    added_indices.append(dataset_indices)\n",
    "    added_labels.append(targets[candidate_batch.indices])\n",
    "    pbar.update(len(dataset_indices))"
   ]
  },
  {
   "cell_type": "code",
   "execution_count": 4,
   "metadata": {},
   "outputs": [
    {
     "data": {
      "image/png": "[encoded data removed]",
      "text/plain": [
       "<Figure size 640x480 with 1 Axes>"
      ]
     },
     "metadata": {},
     "output_type": "display_data"
    }
   ],
   "source": [
    "plt.plot(np.arange(start=num_initial_samples, stop=max_training_samples + acquisition_batch_size, step=acquisition_batch_size), test_accs)\n",
    "plt.xlabel(\"Training Set Size\")\n",
    "plt.ylabel(\"Test Accuracy\")\n",
    "plt.hlines(90, num_initial_samples, max_training_samples, colors='r', linestyles='dashed')\n",
    "\n",
    "plt.show()"
   ]
  },
  {
   "cell_type": "markdown",
   "metadata": {},
   "source": [
    "## Storing results"
   ]
  },
  {
   "cell_type": "code",
   "execution_count": 5,
   "metadata": {},
   "outputs": [],
   "source": [
    "params_dict = {\n",
    "    'num_initial_samples': num_initial_samples,\n",
    "    'num_classes': num_classes,\n",
    "    'max_training_samples': max_training_samples,\n",
    "    'acquisition_batch_size': acquisition_batch_size,\n",
    "    'test_batch_size': test_batch_size,\n",
    "    'batch_size': batch_size,\n",
    "    'scoring_batch_size': scoring_batch_size,\n",
    "    'training_iterations_nn': training_iterations_nn,\n",
    "    'training_iterations_la': training_iterations_la,\n",
    "}\n",
    "\n",
    "# generate a unique experiment id of 3 digits (just to make sure don't override things, clean up later)\n",
    "experiment_id = np.random.randint(1000, 9999)\n",
    "save_experiment(f'{al_method}_{hessian_structure}_{subset_of_weights}_K{acquisition_batch_size}_{experiment_id}',\n",
    "                params_dict, {\n",
    "    'test_accs': test_accs,\n",
    "    'test_loss': test_loss,\n",
    "    'added_indices': added_indices\n",
    "})"
   ]
  }
 ],
 "metadata": {
  "kernelspec": {
   "display_name": "Python 3",
   "language": "python",
   "name": "python3"
  },
  "language_info": {
   "codemirror_mode": {
    "name": "ipython",
    "version": 3
   },
   "file_extension": ".py",
   "mimetype": "text/x-python",
   "name": "python",
   "nbconvert_exporter": "python",
   "pygments_lexer": "ipython3",
   "version": "3.12.1"
  }
 },
 "nbformat": 4,
 "nbformat_minor": 2
}
